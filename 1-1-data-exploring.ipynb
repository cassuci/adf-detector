{
 "cells": [
  {
   "cell_type": "code",
   "execution_count": 1,
   "id": "4f8bdefe",
   "metadata": {},
   "outputs": [],
   "source": [
    "import pandas as pd"
   ]
  },
  {
   "cell_type": "code",
   "execution_count": 6,
   "id": "0eaa1ea4",
   "metadata": {},
   "outputs": [],
   "source": [
    "import os\n",
    "import librosa\n",
    "import numpy as np\n",
    "from joblib import Parallel, delayed\n",
    "\n",
    "def analyze_audio(audio_path):\n",
    "    if not os.path.exists(audio_path):\n",
    "        print(f\"File not found: {audio_path}\")\n",
    "        return None\n",
    "\n",
    "    y, sr = librosa.load(audio_path)\n",
    "\n",
    "    duration = librosa.get_duration(y=y, sr=sr)\n",
    "    centroid = np.mean(librosa.feature.spectral_centroid(y=y, sr=sr))\n",
    "    rolloff = np.mean(librosa.feature.spectral_rolloff(y=y, sr=sr))\n",
    "    bandwidth = np.mean(librosa.feature.spectral_bandwidth(y=y, sr=sr))\n",
    "    energy_distribution = np.mean(librosa.feature.chroma_stft(S=np.abs(librosa.stft(y)), sr=sr))\n",
    "\n",
    "    return {\n",
    "        \"duration\": duration,\n",
    "        \"centroid\": centroid,\n",
    "        \"rolloff\": rolloff,\n",
    "        \"bandwidth\": bandwidth,\n",
    "        \"energy_distribution\": energy_distribution,\n",
    "    }\n",
    "\n",
    "def describe_audio_files_parallel(audio_paths):\n",
    "    # Create a multiprocessing pool\n",
    "    results = Parallel(n_jobs=8)(delayed(analyze_audio)(a) for a in audio_paths)\n",
    "\n",
    "    # Filter out None results (files not found)\n",
    "    results = [r for r in results if r is not None]\n",
    "\n",
    "    if results:\n",
    "        durations = [r[\"duration\"] for r in results]\n",
    "        centroids = [r[\"centroid\"] for r in results]\n",
    "        rolloffs = [r[\"rolloff\"] for r in results]\n",
    "        bandwidths = [r[\"bandwidth\"] for r in results]\n",
    "        energy_distributions = [r[\"energy_distribution\"] for r in results]\n",
    "\n",
    "        mean_duration = np.mean(durations)\n",
    "        max_duration = np.max(durations)\n",
    "        min_duration = np.min(durations)\n",
    "        total_duration = np.sum(durations)\n",
    "\n",
    "        mean_centroid = np.mean(centroids)\n",
    "        mean_rolloff = np.mean(rolloffs)\n",
    "        mean_bandwidth = np.mean(bandwidths)\n",
    "        mean_energy_distribution = np.mean(energy_distributions)\n",
    "    else:\n",
    "        mean_duration = max_duration = min_duration = total_duration = 0\n",
    "        mean_centroid = mean_rolloff = mean_bandwidth = mean_energy_distribution = 0\n",
    "\n",
    "    return {\n",
    "        \"mean_duration\": mean_duration,\n",
    "        \"max_duration\": max_duration,\n",
    "        \"min_duration\": min_duration,\n",
    "        \"total_duration\": total_duration,\n",
    "        \"mean_centroid\": mean_centroid,\n",
    "        \"mean_rolloff\": mean_rolloff,\n",
    "        \"mean_bandwidth\": mean_bandwidth,\n",
    "        \"mean_energy_distribution\": mean_energy_distribution,\n",
    "    }\n"
   ]
  },
  {
   "cell_type": "markdown",
   "id": "7bb0d1e5",
   "metadata": {},
   "source": [
    "## TIMIT"
   ]
  },
  {
   "cell_type": "code",
   "execution_count": 7,
   "id": "9bafba2d",
   "metadata": {},
   "outputs": [
    {
     "data": {
      "text/html": [
       "<div>\n",
       "<style scoped>\n",
       "    .dataframe tbody tr th:only-of-type {\n",
       "        vertical-align: middle;\n",
       "    }\n",
       "\n",
       "    .dataframe tbody tr th {\n",
       "        vertical-align: top;\n",
       "    }\n",
       "\n",
       "    .dataframe thead th {\n",
       "        text-align: right;\n",
       "    }\n",
       "</style>\n",
       "<table border=\"1\" class=\"dataframe\">\n",
       "  <thead>\n",
       "    <tr style=\"text-align: right;\">\n",
       "      <th></th>\n",
       "      <th>0</th>\n",
       "    </tr>\n",
       "  </thead>\n",
       "  <tbody>\n",
       "    <tr>\n",
       "      <th>mean_duration</th>\n",
       "      <td>3.076169</td>\n",
       "    </tr>\n",
       "    <tr>\n",
       "      <th>max_duration</th>\n",
       "      <td>7.788844</td>\n",
       "    </tr>\n",
       "    <tr>\n",
       "      <th>min_duration</th>\n",
       "      <td>0.915283</td>\n",
       "    </tr>\n",
       "    <tr>\n",
       "      <th>total_duration</th>\n",
       "      <td>19379.867483</td>\n",
       "    </tr>\n",
       "    <tr>\n",
       "      <th>mean_centroid</th>\n",
       "      <td>2127.759345</td>\n",
       "    </tr>\n",
       "    <tr>\n",
       "      <th>mean_rolloff</th>\n",
       "      <td>3717.863431</td>\n",
       "    </tr>\n",
       "    <tr>\n",
       "      <th>mean_bandwidth</th>\n",
       "      <td>1588.471335</td>\n",
       "    </tr>\n",
       "    <tr>\n",
       "      <th>mean_energy_distribution</th>\n",
       "      <td>0.612599</td>\n",
       "    </tr>\n",
       "  </tbody>\n",
       "</table>\n",
       "</div>"
      ],
      "text/plain": [
       "                                     0\n",
       "mean_duration                 3.076169\n",
       "max_duration                  7.788844\n",
       "min_duration                  0.915283\n",
       "total_duration            19379.867483\n",
       "mean_centroid              2127.759345\n",
       "mean_rolloff               3717.863431\n",
       "mean_bandwidth             1588.471335\n",
       "mean_energy_distribution      0.612599"
      ]
     },
     "execution_count": 7,
     "metadata": {},
     "output_type": "execute_result"
    }
   ],
   "source": [
    "tinit_files_df = pd.read_csv(\"tinit_data_files_summary.csv\")\n",
    "\n",
    "# Example usage\n",
    "audio_paths = tinit_files_df['full_path'].to_list()\n",
    "audio_stats = describe_audio_files_parallel(audio_paths)\n",
    "pd.DataFrame.from_dict(audio_stats, orient='index')\n",
    "\n",
    "# Now you have a single DataFrame containing all the data from the files_path."
   ]
  },
  {
   "cell_type": "code",
   "execution_count": null,
   "id": "faad05c2",
   "metadata": {},
   "outputs": [],
   "source": [
    "print(tinit_files_df.shape[0])"
   ]
  },
  {
   "cell_type": "markdown",
   "id": "d4f7da3b",
   "metadata": {},
   "source": [
    "## WaveFake"
   ]
  },
  {
   "cell_type": "code",
   "execution_count": 8,
   "id": "6e47d964",
   "metadata": {},
   "outputs": [],
   "source": [
    "wavefake_files_df = pd.read_csv(\"wavefake_data_files_summary.csv\")\n",
    "\n",
    "# Example usage\n",
    "audio_paths = wavefake_files_df['full_path'].to_list()\n",
    "audio_stats = describe_audio_files_parallel(audio_paths)\n",
    "pd.DataFrame.from_dict(audio_stats, orient='index')\n",
    "\n",
    "# Now you have a single DataFrame containing all the data from the files_path."
   ]
  },
  {
   "cell_type": "code",
   "execution_count": null,
   "id": "2c31abca",
   "metadata": {},
   "outputs": [],
   "source": [
    "print(wavefake_files_df.shape[0])"
   ]
  },
  {
   "cell_type": "markdown",
   "id": "231c3247",
   "metadata": {},
   "source": [
    "## Mozilla Common Voice"
   ]
  },
  {
   "cell_type": "code",
   "execution_count": 49,
   "id": "458dffa1",
   "metadata": {},
   "outputs": [
    {
     "name": "stdout",
     "output_type": "stream",
     "text": [
      "677020\n"
     ]
    }
   ],
   "source": [
    "mozilla_files_df = pd.read_csv(\"mozilla_data_files_summary.csv\")\n",
    "print(mozilla_files_df.shape[0])\n",
    "# Example usage\n",
    "audio_paths = mozilla_files_df['full_path'].to_list()\n",
    "audio_stats = describe_audio_files_parallel(audio_paths)\n",
    "pd.DataFrame.from_dict(audio_stats, orient='index')\n",
    "\n",
    "# Now you have a single DataFrame containing all the data from the files_path."
   ]
  },
  {
   "cell_type": "markdown",
   "id": "430574ff",
   "metadata": {},
   "source": [
    "## LJSPeech"
   ]
  },
  {
   "cell_type": "code",
   "execution_count": null,
   "id": "55cc5d3f",
   "metadata": {},
   "outputs": [
    {
     "name": "stdout",
     "output_type": "stream",
     "text": [
      "13100\n"
     ]
    }
   ],
   "source": [
    "ljspeech_files_df = pd.read_csv(\"lsjspeech_data_files_summary.csv\")\n",
    "print(ljspeech_files_df.shape[0])\n",
    "\n",
    "# Example usage\n",
    "audio_paths = ljspeech_files_df['full_path'].to_list()\n",
    "audio_stats = describe_audio_files_parallel(audio_paths)\n",
    "pd.DataFrame.from_dict(audio_stats, orient='index')\n",
    "\n",
    "# Now you have a single DataFrame containing all the data from the files_path."
   ]
  },
  {
   "cell_type": "code",
   "execution_count": null,
   "id": "b1116768",
   "metadata": {},
   "outputs": [],
   "source": []
  }
 ],
 "metadata": {
  "kernelspec": {
   "display_name": "Python 3 (ipykernel)",
   "language": "python",
   "name": "python3"
  },
  "language_info": {
   "codemirror_mode": {
    "name": "ipython",
    "version": 3
   },
   "file_extension": ".py",
   "mimetype": "text/x-python",
   "name": "python",
   "nbconvert_exporter": "python",
   "pygments_lexer": "ipython3",
   "version": "3.11.5"
  }
 },
 "nbformat": 4,
 "nbformat_minor": 5
}
