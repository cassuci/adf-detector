{
 "cells": [
  {
   "cell_type": "code",
   "execution_count": 1,
   "id": "78b30430-69cc-45ac-8152-96816f4615fd",
   "metadata": {},
   "outputs": [],
   "source": [
    "%load_ext autoreload\n",
    "%autoreload 2\n",
    "import tensorflow as tf\n",
    "import numpy as np\n",
    "import pandas as pd\n",
    "import glob"
   ]
  },
  {
   "cell_type": "code",
   "execution_count": 2,
   "id": "e4a68630-2974-4039-b7db-e25bc7f94309",
   "metadata": {},
   "outputs": [],
   "source": [
    "autoencoder_model = tf.keras.saving.load_model('autoencoder_model')\n",
    "classifier = tf.keras.saving.load_model('fake_classifier')\n",
    "# Create a new model that only includes the encoder part\n",
    "encoder_model = tf.keras.Model(inputs=autoencoder_model.input, outputs=autoencoder_model.get_layer('dense_14').output)"
   ]
  },
  {
   "cell_type": "code",
   "execution_count": 3,
   "id": "d6d6000c-efe9-44a8-ab45-60f17823d33f",
   "metadata": {},
   "outputs": [],
   "source": [
    "import numpy as np\n",
    "import librosa\n",
    "import librosa.display\n",
    "import matplotlib.pyplot as plt\n",
    "from pydub import AudioSegment\n",
    "\n",
    "def audio_to_mel_spectrogram(audio_file_path, max_length=4*22500, sr=22500, n_mels=256):\n",
    "    #audio_file_path = audio_file_path if type(audio_file_path) == str else audio_file_path.decode('ASCII')\n",
    "    #audio_file_path = str(audio_file_path).replace('\\\\\\\\', os.sep)\n",
    "    #audio_file_path = audio_file_path.replace('F:', '/mnt/f').replace('//', '/')\n",
    "    with open(audio_file_path, 'rb') as fh:\n",
    "        y, sr = librosa.load(fh, sr=sr)\n",
    "    \n",
    "    if len(y) > max_length:\n",
    "        # If the audio is longer than the maximum length, cut it\n",
    "        y = y[:max_length]\n",
    "    elif len(y) < max_length:\n",
    "        # If the audio is shorter, pad it with zeros\n",
    "        pad_length = max_length - len(y)\n",
    "        y = np.pad(y, (0, pad_length), mode='constant')\n",
    "    \n",
    "    # Calculate the Mel spectrogram\n",
    "    mel_spectrogram = librosa.feature.melspectrogram(y=y, sr=sr, n_fft=n_mels)\n",
    "    mel_spectrogram = librosa.power_to_db(mel_spectrogram, ref=np.max)\n",
    "    \n",
    "    return mel_spectrogram\n",
    "\n",
    "# Generator function for lazy loading of audio data\n",
    "def audio_data_generator(audio_files):\n",
    "    for audio_file in audio_files:\n",
    "        sample = (audio_to_mel_spectrogram(audio_file) + 80)/80\n",
    "        yield sample.reshape((1, 128, 176, 1))"
   ]
  },
  {
   "cell_type": "code",
   "execution_count": 4,
   "id": "a1880ba8-ece3-4072-a98f-c93a39339ed8",
   "metadata": {},
   "outputs": [
    {
     "name": "stderr",
     "output_type": "stream",
     "text": [
      "c:\\Users\\gabri\\AppData\\Local\\Programs\\Python\\Python311\\Lib\\site-packages\\librosa\\feature\\spectral.py:2143: UserWarning: Empty filters detected in mel frequency basis. Some channels will produce empty responses. Try increasing your sampling rate (and fmax) or reducing n_mels.\n",
      "  mel_basis = filters.mel(sr=sr, n_fft=n_fft, **kwargs)\n"
     ]
    },
    {
     "name": "stdout",
     "output_type": "stream",
     "text": [
      "(1, 128, 176, 1)\n",
      "1/1 [==============================] - 0s 372ms/step\n",
      "1/1 [==============================] - 0s 64ms/step\n"
     ]
    },
    {
     "data": {
      "text/plain": [
       "array([[0.3797141]], dtype=float32)"
      ]
     },
     "execution_count": 4,
     "metadata": {},
     "output_type": "execute_result"
    }
   ],
   "source": [
    "# Example usage\n",
    "spectrogram = next(audio_data_generator([\"converted.wav\"]))\n",
    "print(spectrogram.shape)\n",
    "embedding = encoder_model.predict(spectrogram)\n",
    "y = classifier.predict(embedding)\n",
    "y"
   ]
  },
  {
   "cell_type": "code",
   "execution_count": 5,
   "id": "a9bc3ac8-f3b5-4b8d-bbb5-5a809860cec9",
   "metadata": {},
   "outputs": [
    {
     "name": "stdout",
     "output_type": "stream",
     "text": [
      "(1, 128, 176, 1)\n",
      "1/1 [==============================] - 0s 44ms/step\n",
      "1/1 [==============================] - 0s 26ms/step\n"
     ]
    },
    {
     "data": {
      "text/plain": [
       "array([[0.5655227]], dtype=float32)"
      ]
     },
     "execution_count": 5,
     "metadata": {},
     "output_type": "execute_result"
    }
   ],
   "source": [
    "spectrogram = next(audio_data_generator([\"reconstructed_audio.wav\"]))\n",
    "print(spectrogram.shape)\n",
    "embedding = encoder_model.predict(spectrogram)\n",
    "y = classifier.predict(embedding)\n",
    "y"
   ]
  },
  {
   "cell_type": "code",
   "execution_count": 7,
   "id": "8f6384a4",
   "metadata": {},
   "outputs": [
    {
     "name": "stdout",
     "output_type": "stream",
     "text": [
      "(1, 128, 176, 1)\n",
      "1/1 [==============================] - 0s 59ms/step\n",
      "1/1 [==============================] - 0s 26ms/step\n"
     ]
    },
    {
     "data": {
      "text/plain": [
       "array([[0.3797185]], dtype=float32)"
      ]
     },
     "execution_count": 7,
     "metadata": {},
     "output_type": "execute_result"
    }
   ],
   "source": [
    "spectrogram = next(audio_data_generator([\"recording42.wav\"]))\n",
    "print(spectrogram.shape)\n",
    "embedding = encoder_model.predict(spectrogram)\n",
    "y = classifier.predict(embedding)\n",
    "y"
   ]
  },
  {
   "cell_type": "code",
   "execution_count": 8,
   "id": "578838de",
   "metadata": {},
   "outputs": [
    {
     "name": "stdout",
     "output_type": "stream",
     "text": [
      "(1, 128, 176, 1)\n",
      "1/1 [==============================] - 0s 50ms/step\n",
      "1/1 [==============================] - 0s 28ms/step\n"
     ]
    },
    {
     "data": {
      "text/plain": [
       "array([[0.40134802]], dtype=float32)"
      ]
     },
     "execution_count": 8,
     "metadata": {},
     "output_type": "execute_result"
    }
   ],
   "source": [
    "spectrogram = next(audio_data_generator([\"recording.wav\"]))\n",
    "print(spectrogram.shape)\n",
    "embedding = encoder_model.predict(spectrogram)\n",
    "y = classifier.predict(embedding)\n",
    "y"
   ]
  },
  {
   "cell_type": "code",
   "execution_count": 52,
   "id": "68e581f6",
   "metadata": {},
   "outputs": [
    {
     "name": "stdout",
     "output_type": "stream",
     "text": [
      "(1, 128, 176, 1)\n",
      "1/1 [==============================] - 0s 46ms/step\n",
      "1/1 [==============================] - 0s 22ms/step\n"
     ]
    },
    {
     "name": "stderr",
     "output_type": "stream",
     "text": [
      "c:\\Users\\gabri\\AppData\\Local\\Programs\\Python\\Python311\\Lib\\site-packages\\librosa\\feature\\spectral.py:2143: UserWarning: Empty filters detected in mel frequency basis. Some channels will produce empty responses. Try increasing your sampling rate (and fmax) or reducing n_mels.\n",
      "  mel_basis = filters.mel(sr=sr, n_fft=n_fft, **kwargs)\n"
     ]
    },
    {
     "data": {
      "text/plain": [
       "array([[0.72436786]], dtype=float32)"
      ]
     },
     "execution_count": 52,
     "metadata": {},
     "output_type": "execute_result"
    }
   ],
   "source": [
    "spectrogram = next(audio_data_generator([\"test/0.wav\"]))\n",
    "print(spectrogram.shape)\n",
    "embedding_s = encoder_model.predict(spectrogram)\n",
    "y = classifier.predict(embedding_s)\n",
    "y"
   ]
  },
  {
   "cell_type": "code",
   "execution_count": 43,
   "id": "970ef72d-6a31-4b84-a8e3-2e805551d780",
   "metadata": {},
   "outputs": [
    {
     "name": "stdout",
     "output_type": "stream",
     "text": [
      "      1/Unknown - 0s 56ms/step"
     ]
    },
    {
     "name": "stderr",
     "output_type": "stream",
     "text": [
      "c:\\Users\\gabri\\AppData\\Local\\Programs\\Python\\Python311\\Lib\\site-packages\\librosa\\feature\\spectral.py:2143: UserWarning: Empty filters detected in mel frequency basis. Some channels will produce empty responses. Try increasing your sampling rate (and fmax) or reducing n_mels.\n",
      "  mel_basis = filters.mel(sr=sr, n_fft=n_fft, **kwargs)\n"
     ]
    },
    {
     "name": "stdout",
     "output_type": "stream",
     "text": [
      "65/65 [==============================] - 64s 994ms/step\n"
     ]
    }
   ],
   "source": [
    "from glob import glob\n",
    "\n",
    "files = []\n",
    "for f in glob('test/*'):\n",
    "    files.append(f)\n",
    "spectrogram = audio_data_generator(files)\n",
    "embedding = encoder_model.predict(spectrogram, verbose=-1)\n",
    "y = classifier.predict(embedding)\n"
   ]
  },
  {
   "cell_type": "code",
   "execution_count": 51,
   "id": "3e31871f",
   "metadata": {},
   "outputs": [
    {
     "name": "stdout",
     "output_type": "stream",
     "text": [
      "3/3 [==============================] - 0s 5ms/step - loss: 0.3122 - auc: 0.8279 - precision: 0.8769 - recall: 1.0000\n"
     ]
    },
    {
     "data": {
      "text/plain": [
       "<keras.src.callbacks.History at 0x21b0490bc50>"
      ]
     },
     "execution_count": 51,
     "metadata": {},
     "output_type": "execute_result"
    }
   ],
   "source": [
    "classifier.fit(embedding, np.array([int(not 'original' in e) for e in files]))"
   ]
  },
  {
   "cell_type": "code",
   "execution_count": 55,
   "id": "83b4bbc3",
   "metadata": {},
   "outputs": [],
   "source": [
    "auc_r = []\n",
    "i = 0\n",
    "for e in files:\n",
    "    #print(e, y[i], not 'original' in e)\n",
    "    auc_r.append([y[i][0], int(not 'original' in e)])\n",
    "    i+=1\n"
   ]
  },
  {
   "cell_type": "code",
   "execution_count": 56,
   "id": "c59f1f66",
   "metadata": {},
   "outputs": [
    {
     "data": {
      "image/png": "[encoded data removed]",
      "text/plain": [
       "<Figure size 640x480 with 1 Axes>"
      ]
     },
     "metadata": {},
     "output_type": "display_data"
    }
   ],
   "source": [
    "import numpy as np\n",
    "import matplotlib.pyplot as plt\n",
    "from sklearn.metrics import roc_curve, roc_auc_score, auc\n",
    "import tensorflow as tf\n",
    "\n",
    "val_y = [i[1] for i in auc_r]\n",
    "y_pred = [i[0] for i in auc_r]\n",
    "fpr, tpr, thresholds = roc_curve(val_y, y_pred)\n",
    "\n",
    "# Calculate the ROC-AUC score\n",
    "roc_auc = auc(fpr, tpr)\n",
    "\n",
    "# Plot the ROC-AUC curve\n",
    "plt.figure()\n",
    "plt.plot(fpr, tpr, color='darkorange', lw=2, label=f'ROC curve (area = {roc_auc:.2f})')\n",
    "plt.plot([0, 1], [0, 1], color='navy', lw=2, linestyle='--')\n",
    "plt.xlim([0.0, 1.0])\n",
    "plt.ylim([0.0, 1.05])\n",
    "plt.xlabel('False Positive Rate')\n",
    "plt.ylabel('True Positive Rate')\n",
    "plt.title('Receiver Operating Characteristic')\n",
    "plt.legend(loc='lower right')\n",
    "plt.show()"
   ]
  }
 ],
 "metadata": {
  "kernelspec": {
   "display_name": "Python 3 (ipykernel)",
   "language": "python",
   "name": "python3"
  },
  "language_info": {
   "codemirror_mode": {
    "name": "ipython",
    "version": 3
   },
   "file_extension": ".py",
   "mimetype": "text/x-python",
   "name": "python",
   "nbconvert_exporter": "python",
   "pygments_lexer": "ipython3",
   "version": "3.11.5"
  }
 },
 "nbformat": 4,
 "nbformat_minor": 5
}
