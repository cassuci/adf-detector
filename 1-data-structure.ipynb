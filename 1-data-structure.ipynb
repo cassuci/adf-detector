{
 "cells": [
  {
   "cell_type": "code",
   "execution_count": 2,
   "id": "4f8bdefe",
   "metadata": {},
   "outputs": [],
   "source": [
    "import pandas as pd\n",
    "from pathlib import Path"
   ]
  },
  {
   "cell_type": "markdown",
   "id": "7bb0d1e5",
   "metadata": {},
   "source": [
    "## Read all txt to describe data from TIMIT"
   ]
  },
  {
   "cell_type": "code",
   "execution_count": 45,
   "id": "4aabe007",
   "metadata": {},
   "outputs": [
    {
     "data": {
      "text/plain": [
       "6300"
      ]
     },
     "execution_count": 45,
     "metadata": {},
     "output_type": "execute_result"
    }
   ],
   "source": [
    "tinit_files_path = []\n",
    "for path in Path(\"F:\\\\downloads\\\\data\").rglob(\"*.TXT\"):\n",
    "    if \"TEST\" in str(path) or \"TRAIN\" in str(path):\n",
    "        tinit_files_path.append(str(path))\n",
    "\n",
    "len(tinit_files_path)"
   ]
  },
  {
   "cell_type": "code",
   "execution_count": 46,
   "id": "c2e477f7",
   "metadata": {},
   "outputs": [
    {
     "data": {
      "text/plain": [
       "'F:\\\\downloads\\\\data\\\\lisa\\\\data\\\\timit\\\\raw\\\\TIMIT\\\\TEST\\\\DR1\\\\FAKS0\\\\SA1.WAV'"
      ]
     },
     "execution_count": 46,
     "metadata": {},
     "output_type": "execute_result"
    }
   ],
   "source": [
    "tinit_files_path[0].replace(\".TXT\", \".WAV\")"
   ]
  },
  {
   "cell_type": "code",
   "execution_count": 47,
   "id": "9bafba2d",
   "metadata": {},
   "outputs": [],
   "source": [
    "tinit_files = []\n",
    "\n",
    "for file_path in tinit_files_path:\n",
    "    file_parts = file_path.split(\"\\\\\")\n",
    "    train_test, dialect, remaining = file_parts[8], file_parts[9], file_parts[10:]\n",
    "    male_female, speaker_id = remaining[0][0], remaining[0][1:]\n",
    "    text_type, sentence_number = remaining[1][:2], remaining[1][2:]\n",
    "\n",
    "    with open(file_path, \"r\") as file:\n",
    "        first_line = file.readline().strip()\n",
    "        initial_sample, final_sample, text = first_line.split(\" \", 2)\n",
    "\n",
    "    file_data = {\n",
    "        \"full_path\": file_path.replace(\".TXT\", \".WAV\"),\n",
    "        \"train_test\": train_test,\n",
    "        \"dialect\": dialect,\n",
    "        \"male_female\": male_female,\n",
    "        \"speaker_id\": speaker_id,\n",
    "        \"text_type\": text_type,\n",
    "        \"sentence_number\": sentence_number,\n",
    "        \"initial_sample\": initial_sample,\n",
    "        \"final_sample\": final_sample,\n",
    "        \"text\": text,\n",
    "    }\n",
    "\n",
    "    tinit_files_df = pd.DataFrame([file_data])\n",
    "    tinit_files.append(tinit_files_df)\n",
    "\n",
    "# Concatenate all the DataFrames in the files list into a single DataFrame\n",
    "tinit_files_df = pd.concat(tinit_files, ignore_index=True)\n",
    "tinit_files_df[\"full_path\"] = tinit_files_df[\"full_path\"].str.replace(\"\\\\\", \"\\\\\\\\\")\n",
    "tinit_files_df.to_csv(\"tinit_data_files_summary.csv\", index=False)\n",
    "\n",
    "# Now you have a single DataFrame containing all the data from the files_path."
   ]
  },
  {
   "cell_type": "markdown",
   "id": "d4f7da3b",
   "metadata": {},
   "source": [
    "## WaveFake"
   ]
  },
  {
   "cell_type": "code",
   "execution_count": 48,
   "id": "6e47d964",
   "metadata": {},
   "outputs": [
    {
     "name": "stdout",
     "output_type": "stream",
     "text": [
      "134266\n"
     ]
    }
   ],
   "source": [
    "wavefake_files_path = []\n",
    "for path in Path('F:\\\\downloads\\\\generated_audio').rglob('*.wav'):\n",
    "    wavefake_files_path.append(str(path))\n",
    "\n",
    "print(len(wavefake_files_path))\n",
    "wavefake_df = pd.DataFrame(wavefake_files_path, columns=['full_path'])\n",
    "wavefake_df[\"full_path\"] = wavefake_df[\"full_path\"].str.replace(\"\\\\\", \"\\\\\\\\\")\n",
    "wavefake_df['fake'] = 1\n",
    "wavefake_df.to_csv('wavefake_data_files_summary.csv', index=False)"
   ]
  },
  {
   "cell_type": "markdown",
   "id": "231c3247",
   "metadata": {},
   "source": [
    "## Mozilla Common Voice"
   ]
  },
  {
   "cell_type": "code",
   "execution_count": 49,
   "id": "458dffa1",
   "metadata": {},
   "outputs": [
    {
     "name": "stdout",
     "output_type": "stream",
     "text": [
      "677020\n"
     ]
    }
   ],
   "source": [
    "mozilla_files_path = []\n",
    "for path in Path('F:\\\\downloads\\\\en').rglob('*.mp3'):\n",
    "    mozilla_files_path.append(str(path))\n",
    "\n",
    "print(len(mozilla_files_path))\n",
    "mozilla_df = pd.DataFrame(mozilla_files_path, columns=['full_path'])\n",
    "mozilla_df[\"full_path\"] = mozilla_df[\"full_path\"].str.replace(\"\\\\\", \"\\\\\\\\\")\n",
    "mozilla_df['fake'] = 0\n",
    "mozilla_df.to_csv('mozilla_data_files_summary.csv', index=False)"
   ]
  },
  {
   "cell_type": "code",
   "execution_count": 4,
   "id": "da48eb37",
   "metadata": {},
   "outputs": [
    {
     "name": "stdout",
     "output_type": "stream",
     "text": [
      "F:\\downloads\\en\\clips\\11ca2055816f0e248a9cf32ac0ce5099c5d658e2fed18d15ba937dba06a33422962752957a6f2f4f2ec4f96621dc9d2fb70857a4ab1fd5636178a79955f3946f.mp3 0\n",
      "F:\\downloads\\en\\clips\\15a2436eee26f50325118869725074d7e8039d0849f48801a69e09dba094a499e6d5d05f5d0d9b574120f92305e26eee2e58cd94ad8d8c4bfacd976a439ac22e.mp3 10000\n",
      "F:\\downloads\\en\\clips\\1973b51202b5ae1b66d591988646181c3064307ba3bcb974dcc73dc2a9073e9bf9576f9122f358bef967a55fda5d02c22f6912acc9281b9f98d34e6f0fa05862.mp3 20000\n",
      "F:\\downloads\\en\\clips\\1d42b09c8d22f8f297dd85a8ddb87b49436ab1052d071068cc7d080cf0a5f79b8e71b45046d0037e42e21bb63f32bcac0c2a517bd4b66a68b0edd75f17ba8f7f.mp3 30000\n",
      "F:\\downloads\\en\\clips\\2101c9f379fefcb14f144d9c80691460491b6167ea5d003b17558880aa49859832dc4cc6618d31205c01968fa532d78c2297be130d4a7a74bb6d979904bd2c85.mp3 40000\n",
      "F:\\downloads\\en\\clips\\24c03376164c6a5c368dfa458d06946e1f59def2a253e00b5eca7783d87c87b6c9826fc4c5198bfcca9532ca06b1018c1b6172ccd54f25b286cd7f9a068de7d6.mp3 50000\n",
      "F:\\downloads\\en\\clips\\287240a118c27046ed48834d37930547d6934a896eadbe4f0144928d7b06ab51e8108e0b016e401763d34f9378bbb7751f36a6031d00d5525d4cec31f7d748f7.mp3 60000\n",
      "F:\\downloads\\en\\clips\\2c392b1e1946bffe5fc4d7438c273f3f1d0de5a5d4add7f7b9ffc945cef4c7abdb1db1da73bae784cb6b33d88e24bf082b0ae005c3d4da0a341314ac5efafdd2.mp3 70000\n",
      "F:\\downloads\\en\\clips\\3009fbdc65224ebb8e308de1f0d7836fa3bbfbfac1c78403ef13ae820ff7caed8538a3b901e799c1f595f64319d1a04a740c409764c23712eb52569f43d46f0f.mp3 80000\n",
      "F:\\downloads\\en\\clips\\33d7592b84428d85eaffc994df522746d5309e8c79dcec446470c46d5aff478202e2a267ed72f8b859ae9bc81f027d16a9909dc8b823406bbe8be8d3112864e9.mp3 90000\n",
      "F:\\downloads\\en\\clips\\379ea66ec30d23a21f50bc0581d41eb7fdd0aa4357f060126d10ff7a00adcc7274efd4d3a7bf1e87502f60cbb8b728159aacffd3052f3e3302160469ebd9a109.mp3 100000\n",
      "F:\\downloads\\en\\clips\\3b6531485c39646ee9c4c9665eaa005b13a65b618fb70c3488495dd90bb2d6b93a40f7bb4b951aa777942bb90210c01f2be71c19d39e0a2aaa2cdd8620b249be.mp3 110000\n",
      "F:\\downloads\\en\\clips\\3f272b1b088d8bf8928ba7da744536666165531e5d24cbdd80bad011a387bee53ffb645431c67713aba4477cea8590c4c5083d850fff4b450774e67547a79e15.mp3 120000\n",
      "F:\\downloads\\en\\clips\\42f44a1ed5375b833c09a23b490704e73f338154e8b70ce1700435d462de0a9bf2b98132f9f44e55d577ad0c479ff87527014be0d556306f78d8c44009e321b3.mp3 130000\n",
      "F:\\downloads\\en\\clips\\46d84e6df10b6159e4dd346a9f6ae3029c2ad6c2a161c2928ad0ceb9ac2df8e4d75eb0f792a21feaa3b811e075f8128e755ecbce229981c55938306136621207.mp3 140000\n",
      "F:\\downloads\\en\\clips\\4aab5c6d2400a22ad7e39e947c62b1a3cc1b7c4a394d043068d977e6195418fc4c703e01022609116b43dd3bb46f04a2b7339169fcc6059a00242f4ed7ee452d.mp3 150000\n",
      "F:\\downloads\\en\\clips\\4e7adeb077e997b30ea04090e812241626021a4940d57352b1ef5f72fe81f583c2ab50fab0240e2be7634ab12fd757e12854d7c1327902078cb9ad98d736d6dc.mp3 160000\n",
      "F:\\downloads\\en\\clips\\5246983ec248fcd92e8300efa328ad452edf41cc9421ac8a409be4130497c0f1913cbe0b1892b8a722883d6a1e3a3f6055a958f929dfda838d94fdb5f522c65e.mp3 170000\n",
      "F:\\downloads\\en\\clips\\561315d9842ed9c8876d37a0e03fa093693cedf7f7f4e1066f6d5cc76f054f1cef8c6e6af6022605f3d942903c003b5dd613ac03274021e6a21b133c05ccfd67.mp3 180000\n",
      "F:\\downloads\\en\\clips\\59d9ec9e8f7e82d75d336cc9ee9b48fa6f2a08fe100c85bcf101749f3ecef707ec94ea52f72cb574491a8c79f6a82f6990295f5e7ff56054c2ae8a0a3edae93f.mp3 190000\n",
      "F:\\downloads\\en\\clips\\5d9f73c6e5211f1551f58a78dd02b8ecb1788c81920fcad54de109d737281511a769111de3820c4a243b8ce8415471648218ff45ec799d748f66a06ab8a310a8.mp3 200000\n",
      "F:\\downloads\\en\\clips\\61542f46fb8546281b3b42544461a326b3b36ad7b7e2046bbb45116f2bb57cfea678437636a3f43e989449314a7fb5c540bf33dce0d5d38f8547b6cd72c47848.mp3 210000\n",
      "F:\\downloads\\en\\clips\\650c9e122c63a2a7540969a1ca626e081a06c01acd872a35d183e42c7e2f91262108a2e7a108f57873b8a66836da93346acd0f90ea6ef87b98d32c40bb40ede3.mp3 220000\n",
      "F:\\downloads\\en\\clips\\68c5626609ea6552ab170d153687fdc4a89f5941ed8dd302ad5275b893ebd0fc6f604be3ec28d5b26747cbaea7dd40b1bdba0e258d4b7dd9417a9e521dc54a50.mp3 230000\n",
      "F:\\downloads\\en\\clips\\6c889b281661f611c581947586f6eb59893bbd361ad3eb17f987b2991dc72824e891ee452b26b74bc4cf29a090c2627405d21b55b6f2c4bbd185633136cb154b.mp3 240000\n",
      "F:\\downloads\\en\\clips\\704e419dc85226ad057e224ca2d7dfce54dab72e1c25e0f8e23f43010e7da2e4e2b762297d91d28f3bc15571f34eef5401c624011758188aab19879147aa8fef.mp3 250000\n",
      "F:\\downloads\\en\\clips\\740cfd2b6216dfe64a01447f07b7d03b75b35aaa59df1f7fdf981c0e087ef5aad8f5142dcb754d3838aef012d050f1398c476acc9288a8fc1206dd591404e3fb.mp3 260000\n",
      "F:\\downloads\\en\\clips\\77d6008c66945b3357bbc3f45170a9636405b69b3680d60eaac0fbabdfcb78966a5a3d3f44a00415e2a7300a1c4e716040e25d07e4c5664207fc9f3d49499bfb.mp3 270000\n",
      "F:\\downloads\\en\\clips\\7ba995b84b903306e594e8b7e363e3051765e8ded55ce5e8690cc145820a39671d84bc0f9eceaff1455fba0a9406ca5102d0c1678f99125dcbb851403572fa6f.mp3 280000\n",
      "F:\\downloads\\en\\clips\\7f683dc7af4fabe8f7a1d2b7eefa486a88864da74cc53f1a81128bc4ef5c3079f0dd964eb40bdff8fc0ba04fef87f27aa91099456ee2ad1570510496a865d54e.mp3 290000\n",
      "F:\\downloads\\en\\clips\\831f3f530b7c35afa2ac235641360bcb439eac2ccd447255c3009bcb67d0067352f209926327c3553c8be95588cb4189ac0ffe2a7a3615cee30681599ae69642.mp3 300000\n",
      "F:\\downloads\\en\\clips\\86e51dd4ef32d4b1d5b9fd9e3eb7083937ad935c021320c97f068097c6a8a809b8a98c00a9d8f703fb618a8e6d3af85d7863c0703ff790828be566f69dd235fd.mp3 310000\n",
      "F:\\downloads\\en\\clips\\8ab4b01bc54a44080f0c7afabee41b4604862da6d7ac36ec4e88cd2ff8efae82b0cf7bf3a2b231165580c131d1b944a9a7ecb38cdb73308c63cceb3f20b2b23d.mp3 320000\n",
      "F:\\downloads\\en\\clips\\8e8851b447491e17d643449d29891f24629491801e57c85d683132ebc8d07c28303c5182e233b1f9501dc5b351e8c8f734b8fa4d47b59b0393b966887b8ca72e.mp3 330000\n",
      "F:\\downloads\\en\\clips\\92513779164daa2498f268c27fbd8a2031af85e714db70a1fa6f522786944b43f1cd078f8f2ba2272dd87d641c8a6142342dde85f8e5a835d32a8ecd1c1dcea2.mp3 340000\n",
      "F:\\downloads\\en\\clips\\960da9f83e1d92d193965ccb4dcd3b4e67541a5dbfb4bb64d83ab4f3be553750b8a8dfd97c81b1d8d323afa9b0c924b24c82605ad9e3b7f99da82da6564a0da6.mp3 350000\n",
      "F:\\downloads\\en\\clips\\99dbcba340674d6acb204958e88e5e0a937fa0cc8e8034eab46a9ca3bc775ffa6aa711940034630a46761145486ed5eee202e2bd809a98f1a81fe90753b1e7ff.mp3 360000\n",
      "F:\\downloads\\en\\clips\\9da0ed176b3cc9ca7d0b5373c89884c8876909a1eb65810c1343c86dfe0e59c4fe73152242446ca97a1d6ab3e346c5038e4d64dcfd6f213003a54763f0dc93ee.mp3 370000\n",
      "F:\\downloads\\en\\clips\\a15a1951e3e87c96fd81642a884dda439d3023dba400eeb168c3495ad5560f940094f6e0a52b1265574b99459f3fe68dddf328fbb83d5a13a75a1ea9f4031271.mp3 380000\n",
      "F:\\downloads\\en\\clips\\a52abfa2e10cf8c4d065b388beab0943fde4a1c7ed6012d7ffabd3b73b7ce8f608ca3f13d937159b46d33cb867ec510b7d824af58b169eb3ede774ff430a5cb7.mp3 390000\n",
      "F:\\downloads\\en\\clips\\a8fb0d2cefd056fd230e6ff885fd637fbb8db5aa18957ba35077ed8ff0afecc9c8ab43f7d2ef9f00eeba1b77090e8529161767c1607a585a996cd536cfe6a3f9.mp3 400000\n",
      "F:\\downloads\\en\\clips\\acbcc5dd4a0afa495928fac0094a7f1ce6843f9882eb485a67534eec0e49c93ea10b7639d1bb2fc2276b990ec0e461f97fcadeee7eeeef4769f97b4099a70b23.mp3 410000\n",
      "F:\\downloads\\en\\clips\\b076780a70fee86b571d183e36e3602e47213a0ef2081d716d95edb9a6042cce0ec32033ec940a21da3419627140b7fe5b84b1b591e2aaabce332140b894e046.mp3 420000\n",
      "F:\\downloads\\en\\clips\\b438c7f65ed1723e865599897c7cd865819f0657fd6867b4dd1e27b2e361320a8d29e4350070c20a3a8bc1bb89bc665280df382fff37c8e5cc80895a79b13541.mp3 430000\n",
      "F:\\downloads\\en\\clips\\b7f6cfe3b3992c6088857c7269e3235d6037d670fe08af978e31d294dc65560389b584aaf5f2d4eed9808df49c09c2256e086a154383d9fa96005341832ae518.mp3 440000\n",
      "F:\\downloads\\en\\clips\\bbc82a9a1d52b805c4cd34f93aaa61a159365f266f8d6acb55e52c0c212fb205453ff79cf29c4fe65792c7a64de181706e807019c89b76ec8a91937622826fac.mp3 450000\n",
      "F:\\downloads\\en\\clips\\bf899d9e92b73d47713df1f386919b7c8fa5c719c5fac1695d05f237e835163b6dfa7036399195a6c6ab64c461b91c7e267e2303cb24533e147a5eca9109c01b.mp3 460000\n",
      "F:\\downloads\\en\\clips\\c343a506354fe9d350d950d39ccac8f4499e8204c3debd39a3f7903ed41f2acba177f6cfd24bae53ea2b1dcab9e28edddfffba993ae438a8db8c9b9f246ba892.mp3 470000\n",
      "F:\\downloads\\en\\clips\\c7119b073208065aa22450b90273751e9ba41853406a776662020b794a1e86f615eaefe97f11f72a742bb4687c9cbd91bc3c4d7fb5155cccf7b594041217a223.mp3 480000\n",
      "F:\\downloads\\en\\clips\\cad476763d5a731fbd761b16378aa1166b4fd8f5740bb074c0e3023e76ce93f318b408931c8d02e6164f9ade3e8c39dbb9bc970693039e6a336067c9f1ae8f7d.mp3 490000\n",
      "F:\\downloads\\en\\clips\\ce992e14bdc431f303f85f11721640ea2d632379be6d7480dc53e312eb81ff66796b68d3fd3230818402c89a8a7e1e97c27dd07e96c3249afc83aef97fd72908.mp3 500000\n",
      "F:\\downloads\\en\\clips\\d2629a286e7a97f5d5bbf54e5020e7579be1213bf834e882dd0857ac72c0a8355aae478ace3015179bb8e446a59212b19503d4345cadfc9c080e9acaaa65db50.mp3 510000\n",
      "F:\\downloads\\en\\clips\\d62df55e2567e8fceadeecfbde89f042df5cc3c14c0e55e6a49c7ec893c8b7056dc3d8235e2777cb06d450137ca804f6c253729a7d4e094696ce879577f6a1e3.mp3 520000\n",
      "F:\\downloads\\en\\clips\\da05855d9a5fa252f9b66e8dd04b008d6444664bf58eb5307102a904579a5193522268b0cf9f273352c7016d688c33350b202573e6a272de05021c798fdedf98.mp3 530000\n",
      "F:\\downloads\\en\\clips\\ddc4824519183f4f4405bd10bc2e20b30410d30ce581f47e11f0fa79ffb67fdb801e028f0a409efe8d06df08676e466475c02658479be0e6450289952131985c.mp3 540000\n",
      "F:\\downloads\\en\\clips\\e18aad05d054f60d7a636e7b8b98918867cabbafd095438e5240c233b45338698c600ea770aac17dbc1bb9c0c49e2a153e9d8e1814c4e473474948d14a8e5fe4.mp3 550000\n",
      "F:\\downloads\\en\\clips\\e5586ed0a5dfe205c4204abafdf9e57f9d0a9c5eed26202687d640039270e59ccf1b996dffcb85f8742cced290ea75a9e8e056b057e8fc95fdcadff3a9763afe.mp3 560000\n",
      "F:\\downloads\\en\\clips\\e933add9cbab32bff302dd05cc1240a0d6a90c5ca11e9af04ac98fbdccad975b4a9e6bf82a171ccdec737d93a88cb8475a20c92102298c7f5caa369e0367b751.mp3 570000\n",
      "F:\\downloads\\en\\clips\\ecfecdfe00602c1553d657cea1dd22c8bcfd2532bc800c4512d99f4b8fe27a7d0a6a0f6803096dab3048b2d16cfcc69731b1402e88c89e6042f775067a8a46e6.mp3 580000\n",
      "F:\\downloads\\en\\clips\\f0d241114c3791096e60239ccb5e7ee4d613583aa2752f77b5882add8b73fb31ed439edcd7b43f3d48403f0e0c64445502265ed51ec8ce517f54726c153cdce1.mp3 590000\n",
      "F:\\downloads\\en\\clips\\f49c2e1e402e59ac78f51efd9dec82a5ad5718fd6956e3f7ae121384c41274d5d06d2ddef65e428eec8294e0b64cf5c3321f9d53bbdcb766575742d8aa50e465.mp3 600000\n",
      "F:\\downloads\\en\\clips\\f8697eabed3bbc59f0cb5c611ccb1449266428df359f5773920e918bcd5ac7deac730e40bea60700dbee23c679c179a5d7d554e94fa070acc340d7cfa9b32730.mp3 610000\n",
      "F:\\downloads\\en\\clips\\fc3a3bdf6fb7380b1ba7b61432f59586835eda0e2fde7a5e9a5d674e63904abd940aae8d5001f323908a99a30cbb9a294e479d3b41a4c8150a456eac1decdf5d.mp3 620000\n"
     ]
    }
   ],
   "source": [
    "import os\n",
    "\n",
    "i = 0\n",
    "for path in Path(\"F:\\\\downloads\\\\en\").rglob(\"*.mp3\"):\n",
    "    if i % 10000 == 0:\n",
    "        print(path, i)\n",
    "    os.remove(path)\n",
    "    i += 1"
   ]
  },
  {
   "cell_type": "code",
   "execution_count": 77,
   "id": "e273d02d",
   "metadata": {},
   "outputs": [
    {
     "name": "stdout",
     "output_type": "stream",
     "text": [
      "637594\n",
      "677020\n"
     ]
    }
   ],
   "source": [
    "remaining_list = []\n",
    "\n",
    "wav_list = []\n",
    "for path in Path(\"F:\\\\downloads\\\\en\").rglob(\"*.wav\"):\n",
    "    wav_list.append(path)\n",
    "\n",
    "print(len(wav_list))\n",
    "\n",
    "mp3_list = []\n",
    "for path in Path(\"F:\\\\downloads\\\\en\").rglob(\"*.mp3\"):\n",
    "    mp3_list.append(path)\n",
    "\n",
    "print(len(mp3_list))\n"
   ]
  },
  {
   "cell_type": "code",
   "execution_count": 78,
   "id": "fcac3dc3",
   "metadata": {},
   "outputs": [
    {
     "name": "stdout",
     "output_type": "stream",
     "text": [
      "39426\n",
      "CPU times: total: 7.11 s\n",
      "Wall time: 7.11 s\n"
     ]
    }
   ],
   "source": [
    "%%time\n",
    "remaining_list = []\n",
    "mp3_set = set(mp3_list)\n",
    "wav_set = set(wav_list)\n",
    "for path in mp3_list:\n",
    "    if not Path((str(path).replace('.mp3', '.wav'))) in wav_set:\n",
    "        remaining_list.append(path)\n",
    "\n",
    "print(len(remaining_list))"
   ]
  },
  {
   "cell_type": "code",
   "execution_count": 79,
   "id": "f85e502f",
   "metadata": {},
   "outputs": [
    {
     "name": "stderr",
     "output_type": "stream",
     "text": [
      "0it [00:00, ?it/s]"
     ]
    },
    {
     "name": "stderr",
     "output_type": "stream",
     "text": [
      "20it [08:31, 25.57s/it]"
     ]
    },
    {
     "name": "stdout",
     "output_type": "stream",
     "text": [
      "CPU times: total: 1min 45s\n",
      "Wall time: 8min 31s\n"
     ]
    },
    {
     "name": "stderr",
     "output_type": "stream",
     "text": [
      "\n"
     ]
    }
   ],
   "source": [
    "%%time\n",
    "from os import path\n",
    "from pydub import AudioSegment\n",
    "import subprocess\n",
    "from subprocess import Popen\n",
    "from itertools import zip_longest\n",
    "from subprocess import Popen, STDOUT\n",
    "from tqdm import tqdm\n",
    "\n",
    "cmds = [f\"ffmpeg -i {str(audio_file)} {str(audio_file).replace('.mp3', '.wav')}\" for audio_file in remaining_list]\n",
    "\n",
    "groups = [(Popen(cmd, shell=True) for cmd in cmds)] * 2000 # itertools' grouper recipe\n",
    "for processes in tqdm(zip_longest(*groups)): # run len(processes) == limit at a time\n",
    "    for p in filter(None, processes):\n",
    "        p.wait()"
   ]
  },
  {
   "cell_type": "code",
   "execution_count": 80,
   "id": "6fb04e08",
   "metadata": {},
   "outputs": [
    {
     "name": "stdout",
     "output_type": "stream",
     "text": [
      "676640\n"
     ]
    }
   ],
   "source": [
    "mozilla_files_path = []\n",
    "for path in Path('F:\\\\downloads\\\\en').rglob('*.wav'):\n",
    "    mozilla_files_path.append(str(path))\n",
    "\n",
    "print(len(mozilla_files_path))\n",
    "mozilla_df = pd.DataFrame(mozilla_files_path, columns=['full_path'])\n",
    "mozilla_df[\"full_path\"] = mozilla_df[\"full_path\"].str.replace(\"\\\\\", \"\\\\\\\\\")\n",
    "mozilla_df['fake'] = 0\n",
    "mozilla_df.to_csv('mozilla_data_files_summary.csv', index=False)"
   ]
  },
  {
   "cell_type": "markdown",
   "id": "430574ff",
   "metadata": {},
   "source": [
    "## LJSPeech"
   ]
  },
  {
   "cell_type": "code",
   "execution_count": 81,
   "id": "55cc5d3f",
   "metadata": {},
   "outputs": [
    {
     "name": "stdout",
     "output_type": "stream",
     "text": [
      "13100\n"
     ]
    }
   ],
   "source": [
    "ljspeech_files_path = []\n",
    "for path in Path('F:\\downloads\\LJSpeech-1.1').rglob('*.wav'):\n",
    "    ljspeech_files_path.append(str(path))\n",
    "\n",
    "print(len(ljspeech_files_path))\n",
    "ljspeech_df = pd.DataFrame(ljspeech_files_path, columns=['full_path'])\n",
    "ljspeech_df[\"full_path\"] = ljspeech_df[\"full_path\"].str.replace(\"\\\\\", \"\\\\\\\\\")\n",
    "\n",
    "ljspeech_df['fake'] = 0\n",
    "ljspeech_df.to_csv('lsjspeech_data_files_summary.csv', index=False)"
   ]
  },
  {
   "cell_type": "markdown",
   "id": "e7f12c8c",
   "metadata": {},
   "source": [
    "## VAE Train Test"
   ]
  },
  {
   "cell_type": "code",
   "execution_count": 82,
   "id": "f491b851",
   "metadata": {},
   "outputs": [
    {
     "data": {
      "text/html": [
       "<div>\n",
       "<style scoped>\n",
       "    .dataframe tbody tr th:only-of-type {\n",
       "        vertical-align: middle;\n",
       "    }\n",
       "\n",
       "    .dataframe tbody tr th {\n",
       "        vertical-align: top;\n",
       "    }\n",
       "\n",
       "    .dataframe thead th {\n",
       "        text-align: right;\n",
       "    }\n",
       "</style>\n",
       "<table border=\"1\" class=\"dataframe\">\n",
       "  <thead>\n",
       "    <tr style=\"text-align: right;\">\n",
       "      <th></th>\n",
       "      <th>full_path</th>\n",
       "      <th>train_test</th>\n",
       "      <th>dialect</th>\n",
       "      <th>male_female</th>\n",
       "      <th>speaker_id</th>\n",
       "      <th>text_type</th>\n",
       "      <th>sentence_number</th>\n",
       "      <th>initial_sample</th>\n",
       "      <th>final_sample</th>\n",
       "      <th>text</th>\n",
       "      <th>fake</th>\n",
       "    </tr>\n",
       "  </thead>\n",
       "  <tbody>\n",
       "    <tr>\n",
       "      <th>0</th>\n",
       "      <td>F:\\\\downloads\\\\data\\\\lisa\\\\data\\\\timit\\\\raw\\\\T...</td>\n",
       "      <td>TEST</td>\n",
       "      <td>DR1</td>\n",
       "      <td>F</td>\n",
       "      <td>AKS0</td>\n",
       "      <td>SA</td>\n",
       "      <td>1.TXT</td>\n",
       "      <td>0</td>\n",
       "      <td>63488</td>\n",
       "      <td>She had your dark suit in greasy wash water al...</td>\n",
       "      <td>NaN</td>\n",
       "    </tr>\n",
       "    <tr>\n",
       "      <th>1</th>\n",
       "      <td>F:\\\\downloads\\\\data\\\\lisa\\\\data\\\\timit\\\\raw\\\\T...</td>\n",
       "      <td>TEST</td>\n",
       "      <td>DR1</td>\n",
       "      <td>F</td>\n",
       "      <td>AKS0</td>\n",
       "      <td>SA</td>\n",
       "      <td>2.TXT</td>\n",
       "      <td>0</td>\n",
       "      <td>58061</td>\n",
       "      <td>Don't ask me to carry an oily rag like that.</td>\n",
       "      <td>NaN</td>\n",
       "    </tr>\n",
       "    <tr>\n",
       "      <th>2</th>\n",
       "      <td>F:\\\\downloads\\\\data\\\\lisa\\\\data\\\\timit\\\\raw\\\\T...</td>\n",
       "      <td>TEST</td>\n",
       "      <td>DR1</td>\n",
       "      <td>F</td>\n",
       "      <td>AKS0</td>\n",
       "      <td>SI</td>\n",
       "      <td>1573.TXT</td>\n",
       "      <td>0</td>\n",
       "      <td>79565</td>\n",
       "      <td>His captain was thin and haggard and his beaut...</td>\n",
       "      <td>NaN</td>\n",
       "    </tr>\n",
       "    <tr>\n",
       "      <th>3</th>\n",
       "      <td>F:\\\\downloads\\\\data\\\\lisa\\\\data\\\\timit\\\\raw\\\\T...</td>\n",
       "      <td>TEST</td>\n",
       "      <td>DR1</td>\n",
       "      <td>F</td>\n",
       "      <td>AKS0</td>\n",
       "      <td>SI</td>\n",
       "      <td>2203.TXT</td>\n",
       "      <td>0</td>\n",
       "      <td>56218</td>\n",
       "      <td>The reasons for this dive seemed foolish now.</td>\n",
       "      <td>NaN</td>\n",
       "    </tr>\n",
       "    <tr>\n",
       "      <th>4</th>\n",
       "      <td>F:\\\\downloads\\\\data\\\\lisa\\\\data\\\\timit\\\\raw\\\\T...</td>\n",
       "      <td>TEST</td>\n",
       "      <td>DR1</td>\n",
       "      <td>F</td>\n",
       "      <td>AKS0</td>\n",
       "      <td>SI</td>\n",
       "      <td>943.TXT</td>\n",
       "      <td>0</td>\n",
       "      <td>60109</td>\n",
       "      <td>Production may fall far below expectations.</td>\n",
       "      <td>NaN</td>\n",
       "    </tr>\n",
       "  </tbody>\n",
       "</table>\n",
       "</div>"
      ],
      "text/plain": [
       "                                           full_path train_test dialect  \\\n",
       "0  F:\\\\downloads\\\\data\\\\lisa\\\\data\\\\timit\\\\raw\\\\T...       TEST     DR1   \n",
       "1  F:\\\\downloads\\\\data\\\\lisa\\\\data\\\\timit\\\\raw\\\\T...       TEST     DR1   \n",
       "2  F:\\\\downloads\\\\data\\\\lisa\\\\data\\\\timit\\\\raw\\\\T...       TEST     DR1   \n",
       "3  F:\\\\downloads\\\\data\\\\lisa\\\\data\\\\timit\\\\raw\\\\T...       TEST     DR1   \n",
       "4  F:\\\\downloads\\\\data\\\\lisa\\\\data\\\\timit\\\\raw\\\\T...       TEST     DR1   \n",
       "\n",
       "  male_female speaker_id text_type sentence_number initial_sample  \\\n",
       "0           F       AKS0        SA           1.TXT              0   \n",
       "1           F       AKS0        SA           2.TXT              0   \n",
       "2           F       AKS0        SI        1573.TXT              0   \n",
       "3           F       AKS0        SI        2203.TXT              0   \n",
       "4           F       AKS0        SI         943.TXT              0   \n",
       "\n",
       "  final_sample                                               text  fake  \n",
       "0        63488  She had your dark suit in greasy wash water al...   NaN  \n",
       "1        58061       Don't ask me to carry an oily rag like that.   NaN  \n",
       "2        79565  His captain was thin and haggard and his beaut...   NaN  \n",
       "3        56218      The reasons for this dive seemed foolish now.   NaN  \n",
       "4        60109        Production may fall far below expectations.   NaN  "
      ]
     },
     "execution_count": 82,
     "metadata": {},
     "output_type": "execute_result"
    }
   ],
   "source": [
    "all_audios = pd.concat([tinit_files_df, wavefake_df, mozilla_df, ljspeech_df])\n",
    "all_audios.head()"
   ]
  },
  {
   "cell_type": "code",
   "execution_count": 83,
   "id": "a8003eed",
   "metadata": {},
   "outputs": [
    {
     "data": {
      "text/plain": [
       "(830306, 11)"
      ]
     },
     "execution_count": 83,
     "metadata": {},
     "output_type": "execute_result"
    }
   ],
   "source": [
    "all_audios.shape"
   ]
  },
  {
   "cell_type": "code",
   "execution_count": 88,
   "id": "962b473e",
   "metadata": {},
   "outputs": [],
   "source": [
    "vae_train = all_audios.sample(frac=0.5)\n",
    "vae_train[['full_path']].to_csv('vae_train.csv', index=False)"
   ]
  },
  {
   "cell_type": "code",
   "execution_count": 89,
   "id": "9459a840",
   "metadata": {},
   "outputs": [],
   "source": [
    "vae_val = all_audios[~all_audios['full_path'].isin(vae_train['full_path'])].sample(frac=0.4)\n",
    "vae_val[['full_path']].to_csv('vae_val.csv', index=False)"
   ]
  },
  {
   "cell_type": "code",
   "execution_count": 90,
   "id": "cd650a48",
   "metadata": {},
   "outputs": [
    {
     "name": "stdout",
     "output_type": "stream",
     "text": [
      "(249092, 11)\n"
     ]
    }
   ],
   "source": [
    "vae_test = all_audios[\n",
    "    ~(all_audios['full_path'].isin(vae_train['full_path']))&\n",
    "    ~(all_audios['full_path'].isin(vae_val['full_path']))\n",
    "]\n",
    "print(vae_test.shape)\n",
    "vae_test[['full_path']].to_csv('vae_test.csv', index=False)"
   ]
  },
  {
   "cell_type": "code",
   "execution_count": 91,
   "id": "e8e6a723",
   "metadata": {},
   "outputs": [
    {
     "data": {
      "text/plain": [
       "((415153, 11), (166061, 11), (249092, 11))"
      ]
     },
     "execution_count": 91,
     "metadata": {},
     "output_type": "execute_result"
    }
   ],
   "source": [
    "vae_train.shape, vae_val.shape, vae_test.shape"
   ]
  },
  {
   "cell_type": "code",
   "execution_count": null,
   "id": "7d949aff",
   "metadata": {},
   "outputs": [],
   "source": []
  },
  {
   "cell_type": "code",
   "execution_count": null,
   "id": "19b08c97",
   "metadata": {},
   "outputs": [],
   "source": []
  }
 ],
 "metadata": {
  "kernelspec": {
   "display_name": "Python 3 (ipykernel)",
   "language": "python",
   "name": "python3"
  },
  "language_info": {
   "codemirror_mode": {
    "name": "ipython",
    "version": 3
   },
   "file_extension": ".py",
   "mimetype": "text/x-python",
   "name": "python",
   "nbconvert_exporter": "python",
   "pygments_lexer": "ipython3",
   "version": "3.11.5"
  }
 },
 "nbformat": 4,
 "nbformat_minor": 5
}
