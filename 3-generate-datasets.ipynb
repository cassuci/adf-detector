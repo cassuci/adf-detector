{
 "cells": [
  {
   "cell_type": "code",
   "execution_count": 2,
   "id": "9f326e9f-d37f-4ab0-8dae-15237796cd1e",
   "metadata": {},
   "outputs": [],
   "source": [
    "import pandas as pd\n",
    "import glob as glob\n",
    "import pandas as pd\n",
    "from pathlib import Path"
   ]
  },
  {
   "cell_type": "code",
   "execution_count": 7,
   "id": "45c51181",
   "metadata": {},
   "outputs": [
    {
     "data": {
      "text/html": [
       "<div>\n",
       "<style scoped>\n",
       "    .dataframe tbody tr th:only-of-type {\n",
       "        vertical-align: middle;\n",
       "    }\n",
       "\n",
       "    .dataframe tbody tr th {\n",
       "        vertical-align: top;\n",
       "    }\n",
       "\n",
       "    .dataframe thead th {\n",
       "        text-align: right;\n",
       "    }\n",
       "</style>\n",
       "<table border=\"1\" class=\"dataframe\">\n",
       "  <thead>\n",
       "    <tr style=\"text-align: right;\">\n",
       "      <th></th>\n",
       "      <th>full_path</th>\n",
       "      <th>fake</th>\n",
       "    </tr>\n",
       "  </thead>\n",
       "  <tbody>\n",
       "    <tr>\n",
       "      <th>0</th>\n",
       "      <td>F:\\\\downloads\\\\en\\\\clips\\\\721cc4dc992b7077a315...</td>\n",
       "      <td>0</td>\n",
       "    </tr>\n",
       "    <tr>\n",
       "      <th>1</th>\n",
       "      <td>F:\\\\downloads\\\\en\\\\clips\\\\7194c4522b883054476e...</td>\n",
       "      <td>0</td>\n",
       "    </tr>\n",
       "    <tr>\n",
       "      <th>2</th>\n",
       "      <td>F:\\\\downloads\\\\en\\\\clips\\\\eaba74537937a9edb2a8...</td>\n",
       "      <td>0</td>\n",
       "    </tr>\n",
       "    <tr>\n",
       "      <th>3</th>\n",
       "      <td>F:\\\\downloads\\\\LJSpeech-1.1\\\\wavs\\\\LJ039-0025.wav</td>\n",
       "      <td>0</td>\n",
       "    </tr>\n",
       "    <tr>\n",
       "      <th>4</th>\n",
       "      <td>F:\\\\downloads\\\\en\\\\clips\\\\323bf39deeda5c545b69...</td>\n",
       "      <td>0</td>\n",
       "    </tr>\n",
       "  </tbody>\n",
       "</table>\n",
       "</div>"
      ],
      "text/plain": [
       "                                           full_path  fake\n",
       "0  F:\\\\downloads\\\\en\\\\clips\\\\721cc4dc992b7077a315...     0\n",
       "1  F:\\\\downloads\\\\en\\\\clips\\\\7194c4522b883054476e...     0\n",
       "2  F:\\\\downloads\\\\en\\\\clips\\\\eaba74537937a9edb2a8...     0\n",
       "3  F:\\\\downloads\\\\LJSpeech-1.1\\\\wavs\\\\LJ039-0025.wav     0\n",
       "4  F:\\\\downloads\\\\en\\\\clips\\\\323bf39deeda5c545b69...     0"
      ]
     },
     "execution_count": 7,
     "metadata": {},
     "output_type": "execute_result"
    }
   ],
   "source": [
    "vae_val = pd.read_csv('vae_val.csv')\n",
    "vae_val['fake'] = 0\n",
    "vae_val.loc[vae_val['full_path'].str.contains('generated_audio'), 'fake'] = 1\n",
    "vae_val.head()"
   ]
  },
  {
   "cell_type": "code",
   "execution_count": 8,
   "id": "e0e193cc",
   "metadata": {},
   "outputs": [
    {
     "data": {
      "text/plain": [
       "fake\n",
       "0    139115\n",
       "1     26946\n",
       "Name: count, dtype: int64"
      ]
     },
     "execution_count": 8,
     "metadata": {},
     "output_type": "execute_result"
    }
   ],
   "source": [
    "vae_val['fake'].value_counts()"
   ]
  },
  {
   "cell_type": "code",
   "execution_count": 9,
   "id": "2746a7df",
   "metadata": {},
   "outputs": [
    {
     "data": {
      "text/plain": [
       "((124546, 2), (41515, 2))"
      ]
     },
     "execution_count": 9,
     "metadata": {},
     "output_type": "execute_result"
    }
   ],
   "source": [
    "cls_train = vae_val.sample(frac=0.75)\n",
    "cls_val = vae_val[~vae_val['full_path'].isin(cls_train['full_path'])]\n",
    "cls_train.shape, cls_val.shape"
   ]
  },
  {
   "cell_type": "code",
   "execution_count": 10,
   "id": "bbaea0c6",
   "metadata": {},
   "outputs": [],
   "source": [
    "cls_train.to_csv('cls_train_ids.csv', index=False)\n",
    "cls_val.to_csv('cls_val_ids.csv', index=False)"
   ]
  }
 ],
 "metadata": {
  "kernelspec": {
   "display_name": "Python 3 (ipykernel)",
   "language": "python",
   "name": "python3"
  },
  "language_info": {
   "codemirror_mode": {
    "name": "ipython",
    "version": 3
   },
   "file_extension": ".py",
   "mimetype": "text/x-python",
   "name": "python",
   "nbconvert_exporter": "python",
   "pygments_lexer": "ipython3",
   "version": "3.11.5"
  }
 },
 "nbformat": 4,
 "nbformat_minor": 5
}
