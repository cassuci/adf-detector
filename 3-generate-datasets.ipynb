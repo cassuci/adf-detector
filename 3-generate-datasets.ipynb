{
 "cells": [
  {
   "cell_type": "code",
   "execution_count": 4,
   "id": "9f326e9f-d37f-4ab0-8dae-15237796cd1e",
   "metadata": {},
   "outputs": [],
   "source": [
    "import pandas as pd\n",
    "import glob as glob\n",
    "import pandas as pd\n",
    "from pathlib import Path"
   ]
  },
  {
   "cell_type": "code",
   "execution_count": 5,
   "id": "3fffbb11-548a-4a1c-a207-5de6355c5866",
   "metadata": {},
   "outputs": [
    {
     "data": {
      "text/html": [
       "<div>\n",
       "<style scoped>\n",
       "    .dataframe tbody tr th:only-of-type {\n",
       "        vertical-align: middle;\n",
       "    }\n",
       "\n",
       "    .dataframe tbody tr th {\n",
       "        vertical-align: top;\n",
       "    }\n",
       "\n",
       "    .dataframe thead th {\n",
       "        text-align: right;\n",
       "    }\n",
       "</style>\n",
       "<table border=\"1\" class=\"dataframe\">\n",
       "  <thead>\n",
       "    <tr style=\"text-align: right;\">\n",
       "      <th></th>\n",
       "      <th>full_path</th>\n",
       "      <th>train_test</th>\n",
       "      <th>dialect</th>\n",
       "      <th>male_female</th>\n",
       "      <th>speaker_id</th>\n",
       "      <th>text_type</th>\n",
       "      <th>sentence_number</th>\n",
       "      <th>initial_sample</th>\n",
       "      <th>final_sample</th>\n",
       "      <th>text</th>\n",
       "      <th>fake</th>\n",
       "    </tr>\n",
       "  </thead>\n",
       "  <tbody>\n",
       "    <tr>\n",
       "      <th>0</th>\n",
       "      <td>F:\\\\downloads\\\\data\\\\lisa\\\\data\\\\timit\\\\raw\\\\T...</td>\n",
       "      <td>TEST</td>\n",
       "      <td>DR1</td>\n",
       "      <td>F</td>\n",
       "      <td>AKS0</td>\n",
       "      <td>SA</td>\n",
       "      <td>1.TXT</td>\n",
       "      <td>0</td>\n",
       "      <td>63488</td>\n",
       "      <td>She had your dark suit in greasy wash water al...</td>\n",
       "      <td>0</td>\n",
       "    </tr>\n",
       "    <tr>\n",
       "      <th>1</th>\n",
       "      <td>F:\\\\downloads\\\\data\\\\lisa\\\\data\\\\timit\\\\raw\\\\T...</td>\n",
       "      <td>TEST</td>\n",
       "      <td>DR1</td>\n",
       "      <td>F</td>\n",
       "      <td>AKS0</td>\n",
       "      <td>SA</td>\n",
       "      <td>2.TXT</td>\n",
       "      <td>0</td>\n",
       "      <td>58061</td>\n",
       "      <td>Don't ask me to carry an oily rag like that.</td>\n",
       "      <td>0</td>\n",
       "    </tr>\n",
       "    <tr>\n",
       "      <th>2</th>\n",
       "      <td>F:\\\\downloads\\\\data\\\\lisa\\\\data\\\\timit\\\\raw\\\\T...</td>\n",
       "      <td>TEST</td>\n",
       "      <td>DR1</td>\n",
       "      <td>F</td>\n",
       "      <td>AKS0</td>\n",
       "      <td>SI</td>\n",
       "      <td>1573.TXT</td>\n",
       "      <td>0</td>\n",
       "      <td>79565</td>\n",
       "      <td>His captain was thin and haggard and his beaut...</td>\n",
       "      <td>0</td>\n",
       "    </tr>\n",
       "    <tr>\n",
       "      <th>3</th>\n",
       "      <td>F:\\\\downloads\\\\data\\\\lisa\\\\data\\\\timit\\\\raw\\\\T...</td>\n",
       "      <td>TEST</td>\n",
       "      <td>DR1</td>\n",
       "      <td>F</td>\n",
       "      <td>AKS0</td>\n",
       "      <td>SI</td>\n",
       "      <td>2203.TXT</td>\n",
       "      <td>0</td>\n",
       "      <td>56218</td>\n",
       "      <td>The reasons for this dive seemed foolish now.</td>\n",
       "      <td>0</td>\n",
       "    </tr>\n",
       "    <tr>\n",
       "      <th>4</th>\n",
       "      <td>F:\\\\downloads\\\\data\\\\lisa\\\\data\\\\timit\\\\raw\\\\T...</td>\n",
       "      <td>TEST</td>\n",
       "      <td>DR1</td>\n",
       "      <td>F</td>\n",
       "      <td>AKS0</td>\n",
       "      <td>SI</td>\n",
       "      <td>943.TXT</td>\n",
       "      <td>0</td>\n",
       "      <td>60109</td>\n",
       "      <td>Production may fall far below expectations.</td>\n",
       "      <td>0</td>\n",
       "    </tr>\n",
       "  </tbody>\n",
       "</table>\n",
       "</div>"
      ],
      "text/plain": [
       "                                           full_path train_test dialect  \\\n",
       "0  F:\\\\downloads\\\\data\\\\lisa\\\\data\\\\timit\\\\raw\\\\T...       TEST     DR1   \n",
       "1  F:\\\\downloads\\\\data\\\\lisa\\\\data\\\\timit\\\\raw\\\\T...       TEST     DR1   \n",
       "2  F:\\\\downloads\\\\data\\\\lisa\\\\data\\\\timit\\\\raw\\\\T...       TEST     DR1   \n",
       "3  F:\\\\downloads\\\\data\\\\lisa\\\\data\\\\timit\\\\raw\\\\T...       TEST     DR1   \n",
       "4  F:\\\\downloads\\\\data\\\\lisa\\\\data\\\\timit\\\\raw\\\\T...       TEST     DR1   \n",
       "\n",
       "  male_female speaker_id text_type sentence_number  initial_sample  \\\n",
       "0           F       AKS0        SA           1.TXT               0   \n",
       "1           F       AKS0        SA           2.TXT               0   \n",
       "2           F       AKS0        SI        1573.TXT               0   \n",
       "3           F       AKS0        SI        2203.TXT               0   \n",
       "4           F       AKS0        SI         943.TXT               0   \n",
       "\n",
       "   final_sample                                               text  fake  \n",
       "0         63488  She had your dark suit in greasy wash water al...     0  \n",
       "1         58061       Don't ask me to carry an oily rag like that.     0  \n",
       "2         79565  His captain was thin and haggard and his beaut...     0  \n",
       "3         56218      The reasons for this dive seemed foolish now.     0  \n",
       "4         60109        Production may fall far below expectations.     0  "
      ]
     },
     "execution_count": 5,
     "metadata": {},
     "output_type": "execute_result"
    }
   ],
   "source": [
    "audio_files_df = pd.read_csv('data_files_summary.csv')\n",
    "audio_files_df['fake'] = 0\n",
    "audio_files_df.head()"
   ]
  },
  {
   "cell_type": "code",
   "execution_count": 6,
   "id": "4004066c-faba-4374-a3ab-58c894061c90",
   "metadata": {},
   "outputs": [
    {
     "data": {
      "text/plain": [
       "((4620, 11), (1680, 11))"
      ]
     },
     "execution_count": 6,
     "metadata": {},
     "output_type": "execute_result"
    }
   ],
   "source": [
    "tinit_train = audio_files_df[audio_files_df['train_test']=='TRAIN']\n",
    "tinit_test = audio_files_df[audio_files_df['train_test']=='TEST']\n",
    "tinit_train.to_csv('tinit_train.csv', index=False)\n",
    "tinit_test.to_csv('tinit_test.csv', index=False)\n",
    "tinit_train.shape, tinit_test.shape"
   ]
  },
  {
   "cell_type": "code",
   "execution_count": 7,
   "id": "124f60cf-6a79-49fa-9bcb-7233af1e0200",
   "metadata": {},
   "outputs": [
    {
     "data": {
      "text/plain": [
       "134266"
      ]
     },
     "execution_count": 7,
     "metadata": {},
     "output_type": "execute_result"
    }
   ],
   "source": [
    "files_path = []\n",
    "for path in Path('F:\\\\downloads\\\\generated_audio').rglob('*.wav'):\n",
    "    files_path.append(str(path))\n",
    "len(files_path)"
   ]
  },
  {
   "cell_type": "code",
   "execution_count": 8,
   "id": "cd1062ab-be72-4f33-a03a-3686f0e8d18c",
   "metadata": {},
   "outputs": [
    {
     "data": {
      "text/plain": [
       "((100700, 2), (33566, 2))"
      ]
     },
     "execution_count": 8,
     "metadata": {},
     "output_type": "execute_result"
    }
   ],
   "source": [
    "wavefake_df = pd.DataFrame(files_path, columns=['full_path'])\n",
    "wavefake_df['fake'] = 1\n",
    "wavefake_train = wavefake_df.sample(frac=0.75)\n",
    "wavefake_test = wavefake_df[~wavefake_df['full_path'].isin(wavefake_train['full_path'])]\n",
    "wavefake_train.to_csv('wavefake_train.csv', index=False)\n",
    "wavefake_test.to_csv('wavefake_test.csv', index=False)\n",
    "wavefake_train.shape, wavefake_test.shape"
   ]
  },
  {
   "cell_type": "code",
   "execution_count": 9,
   "id": "673ccb39-1b5f-4f02-ac59-a485463db332",
   "metadata": {},
   "outputs": [
    {
     "data": {
      "text/html": [
       "<div>\n",
       "<style scoped>\n",
       "    .dataframe tbody tr th:only-of-type {\n",
       "        vertical-align: middle;\n",
       "    }\n",
       "\n",
       "    .dataframe tbody tr th {\n",
       "        vertical-align: top;\n",
       "    }\n",
       "\n",
       "    .dataframe thead th {\n",
       "        text-align: right;\n",
       "    }\n",
       "</style>\n",
       "<table border=\"1\" class=\"dataframe\">\n",
       "  <thead>\n",
       "    <tr style=\"text-align: right;\">\n",
       "      <th></th>\n",
       "      <th>full_path</th>\n",
       "      <th>fake</th>\n",
       "    </tr>\n",
       "  </thead>\n",
       "  <tbody>\n",
       "    <tr>\n",
       "      <th>0</th>\n",
       "      <td>F:\\downloads\\generated_audio\\common_voices_pro...</td>\n",
       "      <td>1</td>\n",
       "    </tr>\n",
       "    <tr>\n",
       "      <th>1</th>\n",
       "      <td>F:\\downloads\\generated_audio\\common_voices_pro...</td>\n",
       "      <td>1</td>\n",
       "    </tr>\n",
       "    <tr>\n",
       "      <th>2</th>\n",
       "      <td>F:\\downloads\\generated_audio\\common_voices_pro...</td>\n",
       "      <td>1</td>\n",
       "    </tr>\n",
       "    <tr>\n",
       "      <th>3</th>\n",
       "      <td>F:\\downloads\\generated_audio\\common_voices_pro...</td>\n",
       "      <td>1</td>\n",
       "    </tr>\n",
       "    <tr>\n",
       "      <th>4</th>\n",
       "      <td>F:\\downloads\\generated_audio\\common_voices_pro...</td>\n",
       "      <td>1</td>\n",
       "    </tr>\n",
       "  </tbody>\n",
       "</table>\n",
       "</div>"
      ],
      "text/plain": [
       "                                           full_path  fake\n",
       "0  F:\\downloads\\generated_audio\\common_voices_pro...     1\n",
       "1  F:\\downloads\\generated_audio\\common_voices_pro...     1\n",
       "2  F:\\downloads\\generated_audio\\common_voices_pro...     1\n",
       "3  F:\\downloads\\generated_audio\\common_voices_pro...     1\n",
       "4  F:\\downloads\\generated_audio\\common_voices_pro...     1"
      ]
     },
     "execution_count": 9,
     "metadata": {},
     "output_type": "execute_result"
    }
   ],
   "source": [
    "wavefake_df.head()"
   ]
  }
 ],
 "metadata": {
  "kernelspec": {
   "display_name": "Python 3 (ipykernel)",
   "language": "python",
   "name": "python3"
  },
  "language_info": {
   "codemirror_mode": {
    "name": "ipython",
    "version": 3
   },
   "file_extension": ".py",
   "mimetype": "text/x-python",
   "name": "python",
   "nbconvert_exporter": "python",
   "pygments_lexer": "ipython3",
   "version": "3.11.5"
  }
 },
 "nbformat": 4,
 "nbformat_minor": 5
}
