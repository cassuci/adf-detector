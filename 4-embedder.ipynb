{
 "cells": [
  {
   "cell_type": "code",
   "execution_count": 1,
   "id": "05b3b70f-e870-46b5-a650-056be9f17c33",
   "metadata": {},
   "outputs": [],
   "source": [
    "%load_ext autoreload\n",
    "%autoreload 2\n",
    "import tensorflow as tf\n",
    "import numpy as np\n",
    "import pandas as pd\n",
    "import glob"
   ]
  },
  {
   "cell_type": "code",
   "execution_count": 2,
   "id": "9d6decf6-698d-420c-ba6d-c44d52d0d380",
   "metadata": {},
   "outputs": [
    {
     "name": "stdout",
     "output_type": "stream",
     "text": [
      "Model: \"model_3\"\n",
      "_________________________________________________________________\n",
      " Layer (type)                Output Shape              Param #   \n",
      "=================================================================\n",
      " input_4 (InputLayer)        [(None, 128, 176, 1)]     0         \n",
      "                                                                 \n",
      " conv2d_18 (Conv2D)          (None, 128, 176, 128)     1280      \n",
      "                                                                 \n",
      " max_pooling2d_9 (MaxPoolin  (None, 64, 88, 128)       0         \n",
      " g2D)                                                            \n",
      "                                                                 \n",
      " conv2d_19 (Conv2D)          (None, 64, 88, 32)        36896     \n",
      "                                                                 \n",
      " max_pooling2d_10 (MaxPooli  (None, 32, 44, 32)        0         \n",
      " ng2D)                                                           \n",
      "                                                                 \n",
      " conv2d_20 (Conv2D)          (None, 16, 22, 8)         2312      \n",
      "                                                                 \n",
      " max_pooling2d_11 (MaxPooli  (None, 8, 11, 8)          0         \n",
      " ng2D)                                                           \n",
      "                                                                 \n",
      " conv2d_21 (Conv2D)          (None, 8, 11, 8)          584       \n",
      "                                                                 \n",
      " conv2d_22 (Conv2D)          (None, 8, 11, 8)          584       \n",
      "                                                                 \n",
      " flatten_3 (Flatten)         (None, 704)               0         \n",
      "                                                                 \n",
      " dense_6 (Dense)             (None, 256)               180480    \n",
      "                                                                 \n",
      " dense_7 (Dense)             (None, 704)               180928    \n",
      "                                                                 \n",
      " reshape_3 (Reshape)         (None, 8, 11, 8)          0         \n",
      "                                                                 \n",
      " conv2d_transpose_12 (Conv2  (None, 8, 11, 8)          584       \n",
      " DTranspose)                                                     \n",
      "                                                                 \n",
      " conv2d_transpose_13 (Conv2  (None, 8, 11, 8)          584       \n",
      " DTranspose)                                                     \n",
      "                                                                 \n",
      " up_sampling2d_9 (UpSamplin  (None, 16, 22, 8)         0         \n",
      " g2D)                                                            \n",
      "                                                                 \n",
      " conv2d_transpose_14 (Conv2  (None, 32, 44, 32)        2336      \n",
      " DTranspose)                                                     \n",
      "                                                                 \n",
      " up_sampling2d_10 (UpSampli  (None, 64, 88, 32)        0         \n",
      " ng2D)                                                           \n",
      "                                                                 \n",
      " conv2d_transpose_15 (Conv2  (None, 64, 88, 128)       36992     \n",
      " DTranspose)                                                     \n",
      "                                                                 \n",
      " up_sampling2d_11 (UpSampli  (None, 128, 176, 128)     0         \n",
      " ng2D)                                                           \n",
      "                                                                 \n",
      " conv2d_23 (Conv2D)          (None, 128, 176, 1)       1153      \n",
      "                                                                 \n",
      "=================================================================\n",
      "Total params: 444713 (1.70 MB)\n",
      "Trainable params: 444713 (1.70 MB)\n",
      "Non-trainable params: 0 (0.00 Byte)\n",
      "_________________________________________________________________\n"
     ]
    }
   ],
   "source": [
    "autoencoder_model = tf.keras.saving.load_model('autoencoder_model')\n",
    "autoencoder_model.summary()"
   ]
  },
  {
   "cell_type": "code",
   "execution_count": 3,
   "id": "03f86109-e064-4bfc-a050-47ca6add5a25",
   "metadata": {},
   "outputs": [],
   "source": [
    "# Create a new model that only includes the encoder part\n",
    "encoder_model = tf.keras.Model(inputs=autoencoder_model.input, outputs=autoencoder_model.get_layer('dense_6').output)"
   ]
  },
  {
   "cell_type": "code",
   "execution_count": 4,
   "id": "99ba1d7f-8ffb-4bd0-ab00-655de00f2b08",
   "metadata": {},
   "outputs": [],
   "source": [
    "import numpy as np\n",
    "import librosa\n",
    "import librosa.display\n",
    "import matplotlib.pyplot as plt\n",
    "\n",
    "def audio_to_mel_spectrogram(audio_file_path, max_length=4*22500, sr=22500, n_mels=256):\n",
    "    # Load the audio file\n",
    "    y, sr = librosa.load(audio_file_path, sr=sr)\n",
    "    \n",
    "    if len(y) > max_length:\n",
    "        # If the audio is longer than the maximum length, cut it\n",
    "        y = y[:max_length]\n",
    "    elif len(y) < max_length:\n",
    "        # If the audio is shorter, pad it with zeros\n",
    "        pad_length = max_length - len(y)\n",
    "        y = np.pad(y, (0, pad_length), mode='constant')\n",
    "    \n",
    "    # Calculate the Mel spectrogram\n",
    "    mel_spectrogram = librosa.feature.melspectrogram(y=y, sr=sr, n_fft=n_mels)\n",
    "    mel_spectrogram = librosa.power_to_db(mel_spectrogram, ref=np.max)\n",
    "    \n",
    "    return mel_spectrogram\n",
    "\n",
    "# Generator function for lazy loading of audio data\n",
    "def audio_data_generator(audio_files):\n",
    "    for audio_file in audio_files:\n",
    "        yield audio_to_mel_spectrogram(audio_file).reshape((1, 128, 176, 1))\n"
   ]
  },
  {
   "cell_type": "code",
   "execution_count": 5,
   "id": "19512800-4019-403b-95df-753e6976e9b8",
   "metadata": {},
   "outputs": [],
   "source": [
    "tinit_train = pd.read_csv('tinit_train.csv')\n",
    "tinit_test = pd.read_csv('tinit_test.csv')\n",
    "wavefake_train = pd.read_csv('wavefake_train.csv')\n",
    "wavefake_test = pd.read_csv('wavefake_test.csv')"
   ]
  },
  {
   "cell_type": "code",
   "execution_count": null,
   "id": "978a7a46-dfc8-43c4-bc19-4a2e1f35d088",
   "metadata": {},
   "outputs": [
    {
     "name": "stdout",
     "output_type": "stream",
     "text": [
      "      5/Unknown - 9s 16ms/step"
     ]
    },
    {
     "name": "stderr",
     "output_type": "stream",
     "text": [
      "C:\\Users\\gabri\\AppData\\Local\\Programs\\Python\\Python311\\Lib\\site-packages\\librosa\\feature\\spectral.py:2143: UserWarning: Empty filters detected in mel frequency basis. Some channels will produce empty responses. Try increasing your sampling rate (and fmax) or reducing n_mels.\n",
      "  mel_basis = filters.mel(sr=sr, n_fft=n_fft, **kwargs)\n"
     ]
    },
    {
     "name": "stdout",
     "output_type": "stream",
     "text": [
      "   2725/Unknown - 103s 35ms/step"
     ]
    }
   ],
   "source": [
    "%%time\n",
    "tinit_train_generator = tf.data.Dataset.from_generator(audio_data_generator, args=[tinit_train['full_path']], output_signature=tf.TensorSpec(shape=(1, 128, 176, 1)))\n",
    "np.savetxt('tinit_train_x.csv', encoder_model.predict(tinit_train_generator), delimiter=\",\")"
   ]
  },
  {
   "cell_type": "code",
   "execution_count": null,
   "id": "7a92cd68-bdcf-4799-b25d-39b2d94f4f98",
   "metadata": {},
   "outputs": [],
   "source": [
    "%%time\n",
    "tinit_test_generator = tf.data.Dataset.from_generator(audio_data_generator, args=[tinit_test['full_path']], output_signature=tf.TensorSpec(shape=(1, 128, 176, 1)))\n",
    "np.savetxt('tinit_test_x.csv', encoder_model.predict(tinit_test_generator), delimiter=\",\")"
   ]
  },
  {
   "cell_type": "code",
   "execution_count": null,
   "id": "eba5a9a9-e692-432a-a063-401deaa261d6",
   "metadata": {},
   "outputs": [],
   "source": [
    "%%time\n",
    "wavefake_train_generator = tf.data.Dataset.from_generator(audio_data_generator, args=[wavefake_train['full_path']], output_signature=tf.TensorSpec(shape=(1, 128, 176, 1)))\n",
    "np.savetxt('wavefake_train_x.csv', encoder_model.predict(wavefake_train_generator), delimiter=\",\")"
   ]
  },
  {
   "cell_type": "code",
   "execution_count": null,
   "id": "a0896765-cf75-4916-ad0c-5ee55fc25f2a",
   "metadata": {},
   "outputs": [],
   "source": [
    "%%time\n",
    "wavefake_test_generator = tf.data.Dataset.from_generator(audio_data_generator, args=[wavefake_test['full_path']], output_signature=tf.TensorSpec(shape=(1, 128, 176, 1)))\n",
    "np.savetxt('wavefake_test_x.csv', encoder_model.predict(wavefake_test_generator), delimiter=\",\")"
   ]
  },
  {
   "cell_type": "code",
   "execution_count": null,
   "id": "d9edf547-c7ce-4c9e-b6fb-4d0b9743ef56",
   "metadata": {},
   "outputs": [],
   "source": []
  }
 ],
 "metadata": {
  "kernelspec": {
   "display_name": "Python 3 (ipykernel)",
   "language": "python",
   "name": "python3"
  },
  "language_info": {
   "codemirror_mode": {
    "name": "ipython",
    "version": 3
   },
   "file_extension": ".py",
   "mimetype": "text/x-python",
   "name": "python",
   "nbconvert_exporter": "python",
   "pygments_lexer": "ipython3",
   "version": "3.11.5"
  }
 },
 "nbformat": 4,
 "nbformat_minor": 5
}
