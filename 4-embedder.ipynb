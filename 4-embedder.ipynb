{
 "cells": [
  {
   "cell_type": "code",
   "execution_count": 2,
   "id": "05b3b70f-e870-46b5-a650-056be9f17c33",
   "metadata": {},
   "outputs": [],
   "source": [
    "%load_ext autoreload\n",
    "%autoreload 2\n",
    "import tensorflow as tf\n",
    "import numpy as np\n",
    "import pandas as pd\n",
    "import glob"
   ]
  },
  {
   "cell_type": "code",
   "execution_count": 3,
   "id": "9d6decf6-698d-420c-ba6d-c44d52d0d380",
   "metadata": {},
   "outputs": [
    {
     "name": "stdout",
     "output_type": "stream",
     "text": [
      "Model: \"model_4\"\n",
      "_________________________________________________________________\n",
      " Layer (type)                Output Shape              Param #   \n",
      "=================================================================\n",
      " input_8 (InputLayer)        [(None, 128, 176, 1)]     0         \n",
      "                                                                 \n",
      " conv2d_39 (Conv2D)          (None, 128, 176, 256)     2560      \n",
      "                                                                 \n",
      " max_pooling2d_21 (MaxPooli  (None, 64, 88, 256)       0         \n",
      " ng2D)                                                           \n",
      "                                                                 \n",
      " conv2d_40 (Conv2D)          (None, 64, 88, 64)        147520    \n",
      "                                                                 \n",
      " max_pooling2d_22 (MaxPooli  (None, 32, 44, 64)        0         \n",
      " ng2D)                                                           \n",
      "                                                                 \n",
      " conv2d_41 (Conv2D)          (None, 16, 22, 32)        18464     \n",
      "                                                                 \n",
      " max_pooling2d_23 (MaxPooli  (None, 8, 11, 32)         0         \n",
      " ng2D)                                                           \n",
      "                                                                 \n",
      " conv2d_42 (Conv2D)          (None, 8, 11, 16)         4624      \n",
      "                                                                 \n",
      " conv2d_43 (Conv2D)          (None, 8, 11, 16)         2320      \n",
      "                                                                 \n",
      " flatten_7 (Flatten)         (None, 1408)              0         \n",
      "                                                                 \n",
      " dense_14 (Dense)            (None, 512)               721408    \n",
      "                                                                 \n",
      " dense_15 (Dense)            (None, 1408)              722304    \n",
      "                                                                 \n",
      " reshape_7 (Reshape)         (None, 8, 11, 16)         0         \n",
      "                                                                 \n",
      " conv2d_transpose_16 (Conv2  (None, 8, 11, 16)         2320      \n",
      " DTranspose)                                                     \n",
      "                                                                 \n",
      " conv2d_transpose_17 (Conv2  (None, 8, 11, 16)         2320      \n",
      " DTranspose)                                                     \n",
      "                                                                 \n",
      " up_sampling2d_12 (UpSampli  (None, 16, 22, 16)        0         \n",
      " ng2D)                                                           \n",
      "                                                                 \n",
      " conv2d_transpose_18 (Conv2  (None, 32, 44, 32)        4640      \n",
      " DTranspose)                                                     \n",
      "                                                                 \n",
      " up_sampling2d_13 (UpSampli  (None, 64, 88, 32)        0         \n",
      " ng2D)                                                           \n",
      "                                                                 \n",
      " conv2d_transpose_19 (Conv2  (None, 64, 88, 64)        18496     \n",
      " DTranspose)                                                     \n",
      "                                                                 \n",
      " up_sampling2d_14 (UpSampli  (None, 128, 176, 64)      0         \n",
      " ng2D)                                                           \n",
      "                                                                 \n",
      " conv2d_44 (Conv2D)          (None, 128, 176, 1)       577       \n",
      "                                                                 \n",
      "=================================================================\n",
      "Total params: 1647553 (6.28 MB)\n",
      "Trainable params: 1647553 (6.28 MB)\n",
      "Non-trainable params: 0 (0.00 Byte)\n",
      "_________________________________________________________________\n"
     ]
    }
   ],
   "source": [
    "autoencoder = tf.keras.saving.load_model('autoencoder_model')\n",
    "checkpoint_path = 'autoencoder.ckpt'\n",
    "autoencoder.load_weights(checkpoint_path)\n",
    "autoencoder.summary()"
   ]
  },
  {
   "cell_type": "code",
   "execution_count": 5,
   "id": "03f86109-e064-4bfc-a050-47ca6add5a25",
   "metadata": {},
   "outputs": [],
   "source": [
    "# Create a new model that only includes the encoder part\n",
    "encoder_model = tf.keras.Model(inputs=autoencoder.input, outputs=autoencoder.get_layer('dense_14').output)"
   ]
  },
  {
   "cell_type": "code",
   "execution_count": 6,
   "id": "99ba1d7f-8ffb-4bd0-ab00-655de00f2b08",
   "metadata": {},
   "outputs": [],
   "source": [
    "import numpy as np\n",
    "import librosa\n",
    "import librosa.display\n",
    "import matplotlib.pyplot as plt\n",
    "\n",
    "def audio_to_mel_spectrogram(audio_file_path, max_length=4*22500, sr=22500, n_mels=256):\n",
    "    #audio_file_path = audio_file_path if type(audio_file_path) == str else audio_file_path.decode('ASCII')\n",
    "    #audio_file_path = str(audio_file_path).replace('\\\\\\\\', os.sep)\n",
    "    #audio_file_path = audio_file_path.replace('F:', '/mnt/f').replace('//', '/')\n",
    "    \n",
    "    with open(audio_file_path, 'rb') as fh:\n",
    "        y, sr = librosa.load(fh, sr=sr)\n",
    "    \n",
    "    if len(y) > max_length:\n",
    "        # If the audio is longer than the maximum length, cut it\n",
    "        y = y[:max_length]\n",
    "    elif len(y) < max_length:\n",
    "        # If the audio is shorter, pad it with zeros\n",
    "        pad_length = max_length - len(y)\n",
    "        y = np.pad(y, (0, pad_length), mode='constant')\n",
    "    \n",
    "    # Calculate the Mel spectrogram\n",
    "    mel_spectrogram = librosa.feature.melspectrogram(y=y, sr=sr, n_fft=n_mels)\n",
    "    mel_spectrogram = librosa.power_to_db(mel_spectrogram, ref=np.max)\n",
    "    \n",
    "    return mel_spectrogram\n",
    "\n",
    "# Generator function for lazy loading of audio data\n",
    "def audio_data_generator(audio_files):\n",
    "    for audio_file in audio_files:\n",
    "        sample = (audio_to_mel_spectrogram(audio_file) + 80)/80\n",
    "        yield sample.reshape((1, 128, 176, 1))"
   ]
  },
  {
   "cell_type": "code",
   "execution_count": 7,
   "id": "19512800-4019-403b-95df-753e6976e9b8",
   "metadata": {},
   "outputs": [],
   "source": [
    "cls_train = pd.read_csv('cls_train_ids.csv')\n",
    "cls_val = pd.read_csv('cls_val_ids.csv')"
   ]
  },
  {
   "cell_type": "code",
   "execution_count": 13,
   "id": "eef2d94d",
   "metadata": {},
   "outputs": [],
   "source": [
    "cls_train_sample = cls_train.sample(n=10000)\n",
    "cls_train_sample.to_csv('cls_train_ids_sample.csv', index=False)\n",
    "\n",
    "cls_val_sample = cls_val.sample(n=5000)\n",
    "cls_val_sample.to_csv('cls_val_ids_sample.csv', index=False)"
   ]
  },
  {
   "cell_type": "code",
   "execution_count": 14,
   "id": "978a7a46-dfc8-43c4-bc19-4a2e1f35d088",
   "metadata": {},
   "outputs": [
    {
     "name": "stdout",
     "output_type": "stream",
     "text": [
      "      3/Unknown - 0s 50ms/step "
     ]
    },
    {
     "name": "stderr",
     "output_type": "stream",
     "text": [
      "c:\\Users\\gabri\\AppData\\Local\\Programs\\Python\\Python311\\Lib\\site-packages\\librosa\\feature\\spectral.py:2143: UserWarning: Empty filters detected in mel frequency basis. Some channels will produce empty responses. Try increasing your sampling rate (and fmax) or reducing n_mels.\n",
      "  mel_basis = filters.mel(sr=sr, n_fft=n_fft, **kwargs)\n"
     ]
    },
    {
     "name": "stdout",
     "output_type": "stream",
     "text": [
      "10000/10000 [==============================] - 749s 75ms/step\n",
      "CPU times: total: 15min 18s\n",
      "Wall time: 12min 42s\n"
     ]
    }
   ],
   "source": [
    "%%time\n",
    "cls_train_generator = tf.data.Dataset.from_generator(audio_data_generator, args=[cls_train_sample['full_path']], output_signature=tf.TensorSpec(shape=(1, 128, 176, 1)))\n",
    "np.savetxt('cls_train_x.csv', encoder_model.predict(cls_train_generator), delimiter=\",\")"
   ]
  },
  {
   "cell_type": "code",
   "execution_count": 15,
   "id": "7a92cd68-bdcf-4799-b25d-39b2d94f4f98",
   "metadata": {},
   "outputs": [
    {
     "name": "stdout",
     "output_type": "stream",
     "text": [
      "5000/5000 [==============================] - 399s 80ms/step\n",
      "CPU times: total: 7min 40s\n",
      "Wall time: 6min 45s\n"
     ]
    }
   ],
   "source": [
    "%%time\n",
    "cls_val_generator = tf.data.Dataset.from_generator(audio_data_generator, args=[cls_val_sample['full_path']], output_signature=tf.TensorSpec(shape=(1, 128, 176, 1)))\n",
    "np.savetxt('cls_val_x.csv', encoder_model.predict(cls_val_generator), delimiter=\",\")"
   ]
  },
  {
   "cell_type": "code",
   "execution_count": null,
   "id": "9c2c183f-e268-4acf-8c49-ad82a3694bd9",
   "metadata": {},
   "outputs": [],
   "source": []
  }
 ],
 "metadata": {
  "kernelspec": {
   "display_name": "Python 3 (ipykernel)",
   "language": "python",
   "name": "python3"
  },
  "language_info": {
   "codemirror_mode": {
    "name": "ipython",
    "version": 3
   },
   "file_extension": ".py",
   "mimetype": "text/x-python",
   "name": "python",
   "nbconvert_exporter": "python",
   "pygments_lexer": "ipython3",
   "version": "3.11.5"
  }
 },
 "nbformat": 4,
 "nbformat_minor": 5
}
