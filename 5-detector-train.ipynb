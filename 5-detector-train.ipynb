{
 "cells": [
  {
   "cell_type": "code",
   "execution_count": 5,
   "id": "8b175f19-0b4c-4e46-a779-d706c6c45793",
   "metadata": {},
   "outputs": [],
   "source": [
    "import pandas as pd\n",
    "import tensorflow as tf"
   ]
  },
  {
   "cell_type": "code",
   "execution_count": 6,
   "id": "6a83776d-d646-43e6-aa01-8036a377b369",
   "metadata": {},
   "outputs": [
    {
     "name": "stdout",
     "output_type": "stream",
     "text": [
      "Model: \"model_2\"\n",
      "_________________________________________________________________\n",
      " Layer (type)                Output Shape              Param #   \n",
      "=================================================================\n",
      " input_3 (InputLayer)        [(None, 256)]             0         \n",
      "                                                                 \n",
      " dense_6 (Dense)             (None, 32)                8224      \n",
      "                                                                 \n",
      " dense_7 (Dense)             (None, 32)                1056      \n",
      "                                                                 \n",
      " dense_8 (Dense)             (None, 1)                 33        \n",
      "                                                                 \n",
      "=================================================================\n",
      "Total params: 9313 (36.38 KB)\n",
      "Trainable params: 9313 (36.38 KB)\n",
      "Non-trainable params: 0 (0.00 Byte)\n",
      "_________________________________________________________________\n"
     ]
    }
   ],
   "source": [
    "# Input layer\n",
    "input_layer = tf.keras.layers.Input(shape=(256,))\n",
    "\n",
    "# Hidden layer with ReLU activation\n",
    "hidden_layer = tf.keras.layers.Dense(32, activation='relu')(input_layer)\n",
    "hidden_layer = tf.keras.layers.Dense(32, activation='relu')(hidden_layer)\n",
    "\n",
    "# Output layer with sigmoid activation for binary classification\n",
    "output_layer = tf.keras.layers.Dense(1, activation='sigmoid')(hidden_layer)\n",
    "\n",
    "# Create the model\n",
    "model = tf.keras.Model(inputs=input_layer, outputs=output_layer)\n",
    "\n",
    "# Compile the model\n",
    "model.compile(optimizer='adam', loss='binary_crossentropy', metrics=['auc'])\n",
    "\n",
    "# You can now use this 'model' object for training, evaluation, and prediction.\n",
    "model.summary()"
   ]
  },
  {
   "cell_type": "code",
   "execution_count": 25,
   "id": "3e5e338a-648f-466b-bc66-1f8569745e07",
   "metadata": {},
   "outputs": [],
   "source": [
    "tinit_train = pd.read_csv('tinit_train.csv')\n",
    "tinit_test = pd.read_csv('tinit_test.csv')\n",
    "wavefake_train = pd.read_csv('wavefake_train.csv').iloc[:750]\n",
    "wavefake_test = pd.read_csv('wavefake_test.csv').iloc[:250]"
   ]
  },
  {
   "cell_type": "code",
   "execution_count": 26,
   "id": "3e5da3ce-916a-4596-a0f2-f5be9d1425fd",
   "metadata": {},
   "outputs": [],
   "source": [
    "train_x = pd.concat([\n",
    "    pd.read_csv('tinit_train_x.csv', header=None),\n",
    "    pd.read_csv('wavefake_train_x.csv', header=None)\n",
    "])\n",
    "\n",
    "train_y = pd.concat([tinit_train['fake'], wavefake_train['fake']])\n",
    "\n",
    "test_x = pd.concat([\n",
    "    pd.read_csv('tinit_test_x.csv', header=None),\n",
    "    pd.read_csv('wavefake_test_x.csv', header=None)\n",
    "])\n",
    "test_y = pd.concat([tinit_test['fake'], wavefake_test['fake']])"
   ]
  },
  {
   "cell_type": "code",
   "execution_count": 27,
   "id": "6a92450c-61a3-48ee-ba12-e076e32b8a67",
   "metadata": {},
   "outputs": [
    {
     "data": {
      "text/plain": [
       "((5370, 256), (1930, 256))"
      ]
     },
     "execution_count": 27,
     "metadata": {},
     "output_type": "execute_result"
    }
   ],
   "source": [
    "train_x.shape, test_x.shape"
   ]
  },
  {
   "cell_type": "code",
   "execution_count": 29,
   "id": "e0d87e6f-900b-4b6a-8810-28c274926934",
   "metadata": {},
   "outputs": [
    {
     "data": {
      "text/plain": [
       "((5370,), (1930,))"
      ]
     },
     "execution_count": 29,
     "metadata": {},
     "output_type": "execute_result"
    }
   ],
   "source": [
    "train_y.shape, test_y.shape"
   ]
  },
  {
   "cell_type": "code",
   "execution_count": 38,
   "id": "3730967c-4f50-4ae9-8c8b-fa549992c9ff",
   "metadata": {},
   "outputs": [
    {
     "data": {
      "text/plain": [
       "array([0.58116883, 3.58      ])"
      ]
     },
     "execution_count": 38,
     "metadata": {},
     "output_type": "execute_result"
    }
   ],
   "source": [
    "class_weights"
   ]
  },
  {
   "cell_type": "code",
   "execution_count": 44,
   "id": "121c80a5-ca38-4018-a711-1f56c00617b6",
   "metadata": {},
   "outputs": [
    {
     "name": "stdout",
     "output_type": "stream",
     "text": [
      "{0: 0.5811688311688312, 1: 3.58}\n",
      "Epoch 1/300\n",
      "42/42 [==============================] - 1s 6ms/step - loss: 0.1897 - auc: 0.9822 - precision: 0.7865 - recall: 0.9480 - val_loss: 0.0061 - val_auc: 1.0000 - val_precision: 0.9881 - val_recall: 1.0000\n",
      "Epoch 2/300\n",
      "42/42 [==============================] - 0s 2ms/step - loss: 0.0034 - auc: 1.0000 - precision: 0.9987 - recall: 0.9960 - val_loss: 0.0068 - val_auc: 1.0000 - val_precision: 0.9921 - val_recall: 1.0000\n",
      "Epoch 3/300\n",
      "42/42 [==============================] - 0s 2ms/step - loss: 0.0038 - auc: 1.0000 - precision: 0.9960 - recall: 0.9987 - val_loss: 0.0018 - val_auc: 1.0000 - val_precision: 0.9960 - val_recall: 0.9960\n",
      "Epoch 4/300\n",
      "42/42 [==============================] - 0s 2ms/step - loss: 0.0027 - auc: 1.0000 - precision: 0.9973 - recall: 0.9987 - val_loss: 0.0061 - val_auc: 1.0000 - val_precision: 0.9921 - val_recall: 1.0000\n",
      "Epoch 5/300\n",
      "42/42 [==============================] - 0s 2ms/step - loss: 0.0024 - auc: 1.0000 - precision: 0.9987 - recall: 0.9987 - val_loss: 0.0068 - val_auc: 1.0000 - val_precision: 0.9921 - val_recall: 1.0000\n",
      "Epoch 6/300\n",
      "42/42 [==============================] - 0s 2ms/step - loss: 0.0017 - auc: 1.0000 - precision: 0.9987 - recall: 1.0000 - val_loss: 0.0017 - val_auc: 1.0000 - val_precision: 0.9960 - val_recall: 1.0000\n",
      "Epoch 7/300\n",
      "42/42 [==============================] - 0s 2ms/step - loss: 0.0022 - auc: 1.0000 - precision: 1.0000 - recall: 0.9987 - val_loss: 0.0013 - val_auc: 1.0000 - val_precision: 0.9960 - val_recall: 1.0000\n",
      "Epoch 8/300\n",
      "42/42 [==============================] - 0s 2ms/step - loss: 0.0016 - auc: 1.0000 - precision: 0.9987 - recall: 1.0000 - val_loss: 0.0032 - val_auc: 1.0000 - val_precision: 0.9960 - val_recall: 1.0000\n",
      "Epoch 9/300\n",
      "42/42 [==============================] - 0s 2ms/step - loss: 0.0011 - auc: 1.0000 - precision: 1.0000 - recall: 1.0000 - val_loss: 0.0012 - val_auc: 1.0000 - val_precision: 1.0000 - val_recall: 1.0000\n",
      "Epoch 10/300\n",
      "42/42 [==============================] - 0s 2ms/step - loss: 0.0011 - auc: 1.0000 - precision: 1.0000 - recall: 1.0000 - val_loss: 0.0014 - val_auc: 1.0000 - val_precision: 0.9960 - val_recall: 1.0000\n",
      "Epoch 11/300\n",
      "42/42 [==============================] - 0s 2ms/step - loss: 7.8731e-04 - auc: 1.0000 - precision: 1.0000 - recall: 1.0000 - val_loss: 0.0019 - val_auc: 1.0000 - val_precision: 0.9960 - val_recall: 1.0000\n",
      "Epoch 12/300\n",
      "42/42 [==============================] - 0s 2ms/step - loss: 7.5165e-04 - auc: 1.0000 - precision: 1.0000 - recall: 1.0000 - val_loss: 0.0015 - val_auc: 1.0000 - val_precision: 0.9960 - val_recall: 1.0000\n",
      "Epoch 13/300\n",
      "42/42 [==============================] - 0s 2ms/step - loss: 7.9770e-04 - auc: 1.0000 - precision: 1.0000 - recall: 1.0000 - val_loss: 0.0021 - val_auc: 1.0000 - val_precision: 0.9960 - val_recall: 1.0000\n",
      "Epoch 14/300\n",
      "42/42 [==============================] - 0s 2ms/step - loss: 6.2247e-04 - auc: 1.0000 - precision: 1.0000 - recall: 1.0000 - val_loss: 9.5125e-04 - val_auc: 1.0000 - val_precision: 1.0000 - val_recall: 1.0000\n",
      "Epoch 15/300\n",
      "42/42 [==============================] - 0s 2ms/step - loss: 6.3749e-04 - auc: 1.0000 - precision: 1.0000 - recall: 1.0000 - val_loss: 0.0014 - val_auc: 1.0000 - val_precision: 0.9960 - val_recall: 1.0000\n",
      "Epoch 16/300\n",
      "42/42 [==============================] - 0s 2ms/step - loss: 6.1601e-04 - auc: 1.0000 - precision: 1.0000 - recall: 1.0000 - val_loss: 0.0010 - val_auc: 1.0000 - val_precision: 1.0000 - val_recall: 1.0000\n",
      "Epoch 17/300\n",
      "42/42 [==============================] - 0s 2ms/step - loss: 5.4897e-04 - auc: 1.0000 - precision: 1.0000 - recall: 1.0000 - val_loss: 8.0688e-04 - val_auc: 1.0000 - val_precision: 1.0000 - val_recall: 1.0000\n",
      "Epoch 18/300\n",
      "42/42 [==============================] - 0s 2ms/step - loss: 5.6706e-04 - auc: 1.0000 - precision: 1.0000 - recall: 1.0000 - val_loss: 0.0012 - val_auc: 1.0000 - val_precision: 1.0000 - val_recall: 1.0000\n",
      "Epoch 19/300\n",
      "42/42 [==============================] - 0s 2ms/step - loss: 4.8627e-04 - auc: 1.0000 - precision: 1.0000 - recall: 1.0000 - val_loss: 7.0446e-04 - val_auc: 1.0000 - val_precision: 1.0000 - val_recall: 1.0000\n",
      "Epoch 20/300\n",
      "42/42 [==============================] - 0s 2ms/step - loss: 4.5343e-04 - auc: 1.0000 - precision: 1.0000 - recall: 1.0000 - val_loss: 6.5592e-04 - val_auc: 1.0000 - val_precision: 1.0000 - val_recall: 1.0000\n",
      "Epoch 21/300\n",
      "42/42 [==============================] - 0s 2ms/step - loss: 4.6734e-04 - auc: 1.0000 - precision: 1.0000 - recall: 1.0000 - val_loss: 0.0023 - val_auc: 1.0000 - val_precision: 0.9960 - val_recall: 1.0000\n",
      "Epoch 22/300\n",
      "42/42 [==============================] - 0s 2ms/step - loss: 4.7358e-04 - auc: 1.0000 - precision: 1.0000 - recall: 1.0000 - val_loss: 0.0018 - val_auc: 1.0000 - val_precision: 0.9960 - val_recall: 1.0000\n",
      "Epoch 23/300\n",
      "42/42 [==============================] - 0s 2ms/step - loss: 4.4804e-04 - auc: 1.0000 - precision: 1.0000 - recall: 1.0000 - val_loss: 7.4112e-04 - val_auc: 1.0000 - val_precision: 1.0000 - val_recall: 1.0000\n",
      "Epoch 24/300\n",
      "42/42 [==============================] - 0s 2ms/step - loss: 4.2510e-04 - auc: 1.0000 - precision: 1.0000 - recall: 1.0000 - val_loss: 7.4203e-04 - val_auc: 1.0000 - val_precision: 1.0000 - val_recall: 1.0000\n",
      "Epoch 25/300\n",
      "42/42 [==============================] - 0s 2ms/step - loss: 3.8175e-04 - auc: 1.0000 - precision: 1.0000 - recall: 1.0000 - val_loss: 7.1109e-04 - val_auc: 1.0000 - val_precision: 1.0000 - val_recall: 1.0000\n",
      "Epoch 26/300\n",
      "42/42 [==============================] - 0s 2ms/step - loss: 3.7389e-04 - auc: 1.0000 - precision: 1.0000 - recall: 1.0000 - val_loss: 6.1898e-04 - val_auc: 1.0000 - val_precision: 1.0000 - val_recall: 1.0000\n",
      "Epoch 27/300\n",
      "42/42 [==============================] - 0s 2ms/step - loss: 3.7923e-04 - auc: 1.0000 - precision: 1.0000 - recall: 1.0000 - val_loss: 0.0010 - val_auc: 1.0000 - val_precision: 1.0000 - val_recall: 1.0000\n",
      "Epoch 28/300\n",
      "42/42 [==============================] - 0s 2ms/step - loss: 3.2651e-04 - auc: 1.0000 - precision: 1.0000 - recall: 1.0000 - val_loss: 6.2922e-04 - val_auc: 1.0000 - val_precision: 1.0000 - val_recall: 1.0000\n",
      "Epoch 29/300\n",
      "42/42 [==============================] - 0s 2ms/step - loss: 3.1416e-04 - auc: 1.0000 - precision: 1.0000 - recall: 1.0000 - val_loss: 8.0864e-04 - val_auc: 1.0000 - val_precision: 1.0000 - val_recall: 1.0000\n",
      "Epoch 30/300\n",
      "42/42 [==============================] - 0s 2ms/step - loss: 3.0482e-04 - auc: 1.0000 - precision: 1.0000 - recall: 1.0000 - val_loss: 0.0012 - val_auc: 1.0000 - val_precision: 0.9960 - val_recall: 1.0000\n",
      "Epoch 31/300\n",
      "42/42 [==============================] - 0s 2ms/step - loss: 3.0492e-04 - auc: 1.0000 - precision: 1.0000 - recall: 1.0000 - val_loss: 0.0013 - val_auc: 1.0000 - val_precision: 0.9960 - val_recall: 1.0000\n",
      "Epoch 32/300\n",
      "42/42 [==============================] - 0s 2ms/step - loss: 4.1332e-04 - auc: 1.0000 - precision: 1.0000 - recall: 1.0000 - val_loss: 6.7171e-04 - val_auc: 1.0000 - val_precision: 1.0000 - val_recall: 1.0000\n",
      "Epoch 33/300\n",
      "42/42 [==============================] - 0s 2ms/step - loss: 2.7259e-04 - auc: 1.0000 - precision: 1.0000 - recall: 1.0000 - val_loss: 5.9585e-04 - val_auc: 1.0000 - val_precision: 1.0000 - val_recall: 1.0000\n",
      "Epoch 34/300\n",
      "42/42 [==============================] - 0s 2ms/step - loss: 2.4694e-04 - auc: 1.0000 - precision: 1.0000 - recall: 1.0000 - val_loss: 0.0010 - val_auc: 1.0000 - val_precision: 1.0000 - val_recall: 1.0000\n",
      "Epoch 35/300\n",
      "42/42 [==============================] - 0s 2ms/step - loss: 2.0347e-04 - auc: 1.0000 - precision: 1.0000 - recall: 1.0000 - val_loss: 6.1771e-04 - val_auc: 1.0000 - val_precision: 1.0000 - val_recall: 0.9960\n",
      "Epoch 36/300\n",
      "42/42 [==============================] - 0s 2ms/step - loss: 2.1184e-04 - auc: 1.0000 - precision: 1.0000 - recall: 1.0000 - val_loss: 5.8308e-04 - val_auc: 1.0000 - val_precision: 1.0000 - val_recall: 1.0000\n",
      "Epoch 37/300\n",
      "42/42 [==============================] - 0s 2ms/step - loss: 2.2662e-04 - auc: 1.0000 - precision: 1.0000 - recall: 1.0000 - val_loss: 5.8542e-04 - val_auc: 1.0000 - val_precision: 1.0000 - val_recall: 1.0000\n",
      "Epoch 38/300\n",
      "42/42 [==============================] - 0s 2ms/step - loss: 2.1579e-04 - auc: 1.0000 - precision: 1.0000 - recall: 1.0000 - val_loss: 5.5779e-04 - val_auc: 1.0000 - val_precision: 1.0000 - val_recall: 1.0000\n",
      "Epoch 39/300\n",
      "42/42 [==============================] - 0s 2ms/step - loss: 1.8014e-04 - auc: 1.0000 - precision: 1.0000 - recall: 1.0000 - val_loss: 5.3661e-04 - val_auc: 1.0000 - val_precision: 1.0000 - val_recall: 1.0000\n",
      "Epoch 40/300\n",
      "42/42 [==============================] - 0s 2ms/step - loss: 1.6970e-04 - auc: 1.0000 - precision: 1.0000 - recall: 1.0000 - val_loss: 5.2827e-04 - val_auc: 1.0000 - val_precision: 1.0000 - val_recall: 1.0000\n",
      "Epoch 41/300\n",
      "42/42 [==============================] - 0s 2ms/step - loss: 1.6246e-04 - auc: 1.0000 - precision: 1.0000 - recall: 1.0000 - val_loss: 5.2113e-04 - val_auc: 1.0000 - val_precision: 1.0000 - val_recall: 1.0000\n",
      "Epoch 42/300\n",
      "42/42 [==============================] - 0s 2ms/step - loss: 1.6469e-04 - auc: 1.0000 - precision: 1.0000 - recall: 1.0000 - val_loss: 5.6242e-04 - val_auc: 1.0000 - val_precision: 1.0000 - val_recall: 1.0000\n",
      "Epoch 43/300\n",
      "42/42 [==============================] - 0s 2ms/step - loss: 1.6117e-04 - auc: 1.0000 - precision: 1.0000 - recall: 1.0000 - val_loss: 5.0974e-04 - val_auc: 1.0000 - val_precision: 1.0000 - val_recall: 1.0000\n",
      "Epoch 44/300\n",
      "42/42 [==============================] - 0s 2ms/step - loss: 1.4772e-04 - auc: 1.0000 - precision: 1.0000 - recall: 1.0000 - val_loss: 5.1161e-04 - val_auc: 1.0000 - val_precision: 1.0000 - val_recall: 1.0000\n",
      "Epoch 45/300\n",
      "42/42 [==============================] - 0s 2ms/step - loss: 1.5093e-04 - auc: 1.0000 - precision: 1.0000 - recall: 1.0000 - val_loss: 5.3305e-04 - val_auc: 1.0000 - val_precision: 1.0000 - val_recall: 1.0000\n",
      "Epoch 46/300\n",
      "42/42 [==============================] - 0s 2ms/step - loss: 1.5258e-04 - auc: 1.0000 - precision: 1.0000 - recall: 1.0000 - val_loss: 5.5868e-04 - val_auc: 1.0000 - val_precision: 1.0000 - val_recall: 0.9960\n",
      "Epoch 47/300\n",
      "42/42 [==============================] - 0s 2ms/step - loss: 1.4451e-04 - auc: 1.0000 - precision: 1.0000 - recall: 1.0000 - val_loss: 4.8844e-04 - val_auc: 1.0000 - val_precision: 1.0000 - val_recall: 1.0000\n",
      "Epoch 48/300\n",
      "42/42 [==============================] - 0s 2ms/step - loss: 1.5397e-04 - auc: 1.0000 - precision: 1.0000 - recall: 1.0000 - val_loss: 7.1316e-04 - val_auc: 1.0000 - val_precision: 1.0000 - val_recall: 1.0000\n",
      "Epoch 49/300\n",
      "42/42 [==============================] - 0s 2ms/step - loss: 1.3636e-04 - auc: 1.0000 - precision: 1.0000 - recall: 1.0000 - val_loss: 5.2071e-04 - val_auc: 1.0000 - val_precision: 1.0000 - val_recall: 1.0000\n",
      "Epoch 50/300\n",
      "42/42 [==============================] - 0s 2ms/step - loss: 1.5047e-04 - auc: 1.0000 - precision: 1.0000 - recall: 1.0000 - val_loss: 4.9281e-04 - val_auc: 1.0000 - val_precision: 1.0000 - val_recall: 1.0000\n",
      "Epoch 51/300\n",
      "42/42 [==============================] - 0s 2ms/step - loss: 1.2981e-04 - auc: 1.0000 - precision: 1.0000 - recall: 1.0000 - val_loss: 5.0001e-04 - val_auc: 1.0000 - val_precision: 1.0000 - val_recall: 1.0000\n",
      "Epoch 52/300\n",
      "42/42 [==============================] - 0s 2ms/step - loss: 1.2877e-04 - auc: 1.0000 - precision: 1.0000 - recall: 1.0000 - val_loss: 4.7878e-04 - val_auc: 1.0000 - val_precision: 1.0000 - val_recall: 1.0000\n",
      "Epoch 53/300\n",
      "42/42 [==============================] - 0s 2ms/step - loss: 1.4974e-04 - auc: 1.0000 - precision: 1.0000 - recall: 1.0000 - val_loss: 4.4406e-04 - val_auc: 1.0000 - val_precision: 1.0000 - val_recall: 1.0000\n",
      "Epoch 54/300\n",
      "42/42 [==============================] - 0s 2ms/step - loss: 1.1285e-04 - auc: 1.0000 - precision: 1.0000 - recall: 1.0000 - val_loss: 4.4740e-04 - val_auc: 1.0000 - val_precision: 1.0000 - val_recall: 1.0000\n",
      "Epoch 55/300\n",
      "42/42 [==============================] - 0s 2ms/step - loss: 1.1565e-04 - auc: 1.0000 - precision: 1.0000 - recall: 1.0000 - val_loss: 6.1613e-04 - val_auc: 1.0000 - val_precision: 1.0000 - val_recall: 0.9960\n",
      "Epoch 56/300\n",
      "42/42 [==============================] - 0s 2ms/step - loss: 1.1917e-04 - auc: 1.0000 - precision: 1.0000 - recall: 1.0000 - val_loss: 6.2835e-04 - val_auc: 1.0000 - val_precision: 1.0000 - val_recall: 0.9960\n",
      "Epoch 57/300\n",
      "42/42 [==============================] - 0s 2ms/step - loss: 1.2567e-04 - auc: 1.0000 - precision: 1.0000 - recall: 1.0000 - val_loss: 4.8615e-04 - val_auc: 1.0000 - val_precision: 1.0000 - val_recall: 0.9960\n",
      "Epoch 58/300\n",
      "42/42 [==============================] - 0s 2ms/step - loss: 1.1794e-04 - auc: 1.0000 - precision: 1.0000 - recall: 1.0000 - val_loss: 4.0982e-04 - val_auc: 1.0000 - val_precision: 1.0000 - val_recall: 1.0000\n",
      "Epoch 59/300\n",
      "42/42 [==============================] - 0s 2ms/step - loss: 1.0956e-04 - auc: 1.0000 - precision: 1.0000 - recall: 1.0000 - val_loss: 4.3843e-04 - val_auc: 1.0000 - val_precision: 1.0000 - val_recall: 1.0000\n",
      "Epoch 60/300\n",
      "42/42 [==============================] - 0s 2ms/step - loss: 1.1397e-04 - auc: 1.0000 - precision: 1.0000 - recall: 1.0000 - val_loss: 3.8828e-04 - val_auc: 1.0000 - val_precision: 1.0000 - val_recall: 1.0000\n",
      "Epoch 61/300\n",
      "42/42 [==============================] - 0s 2ms/step - loss: 1.2039e-04 - auc: 1.0000 - precision: 1.0000 - recall: 1.0000 - val_loss: 4.8303e-04 - val_auc: 1.0000 - val_precision: 1.0000 - val_recall: 1.0000\n",
      "Epoch 62/300\n",
      "42/42 [==============================] - 0s 2ms/step - loss: 1.0141e-04 - auc: 1.0000 - precision: 1.0000 - recall: 1.0000 - val_loss: 4.5787e-04 - val_auc: 1.0000 - val_precision: 1.0000 - val_recall: 1.0000\n",
      "Epoch 63/300\n",
      "42/42 [==============================] - 0s 2ms/step - loss: 9.1019e-05 - auc: 1.0000 - precision: 1.0000 - recall: 1.0000 - val_loss: 4.4115e-04 - val_auc: 1.0000 - val_precision: 1.0000 - val_recall: 1.0000\n",
      "Epoch 64/300\n",
      "42/42 [==============================] - 0s 2ms/step - loss: 9.3638e-05 - auc: 1.0000 - precision: 1.0000 - recall: 1.0000 - val_loss: 4.0603e-04 - val_auc: 1.0000 - val_precision: 1.0000 - val_recall: 1.0000\n",
      "Epoch 65/300\n",
      "42/42 [==============================] - 0s 2ms/step - loss: 8.4214e-05 - auc: 1.0000 - precision: 1.0000 - recall: 1.0000 - val_loss: 3.7174e-04 - val_auc: 1.0000 - val_precision: 1.0000 - val_recall: 1.0000\n",
      "Epoch 66/300\n",
      "42/42 [==============================] - 0s 2ms/step - loss: 8.1723e-05 - auc: 1.0000 - precision: 1.0000 - recall: 1.0000 - val_loss: 3.8704e-04 - val_auc: 1.0000 - val_precision: 1.0000 - val_recall: 1.0000\n",
      "Epoch 67/300\n",
      "42/42 [==============================] - 0s 2ms/step - loss: 8.4721e-05 - auc: 1.0000 - precision: 1.0000 - recall: 1.0000 - val_loss: 3.5133e-04 - val_auc: 1.0000 - val_precision: 1.0000 - val_recall: 1.0000\n",
      "Epoch 68/300\n",
      "42/42 [==============================] - 0s 2ms/step - loss: 8.0810e-05 - auc: 1.0000 - precision: 1.0000 - recall: 1.0000 - val_loss: 3.5626e-04 - val_auc: 1.0000 - val_precision: 1.0000 - val_recall: 1.0000\n",
      "Epoch 69/300\n",
      "42/42 [==============================] - 0s 2ms/step - loss: 8.5197e-05 - auc: 1.0000 - precision: 1.0000 - recall: 1.0000 - val_loss: 3.6731e-04 - val_auc: 1.0000 - val_precision: 1.0000 - val_recall: 1.0000\n",
      "Epoch 70/300\n",
      "42/42 [==============================] - 0s 2ms/step - loss: 8.1785e-05 - auc: 1.0000 - precision: 1.0000 - recall: 1.0000 - val_loss: 3.7561e-04 - val_auc: 1.0000 - val_precision: 1.0000 - val_recall: 1.0000\n",
      "Epoch 71/300\n",
      "42/42 [==============================] - 0s 2ms/step - loss: 7.3027e-05 - auc: 1.0000 - precision: 1.0000 - recall: 1.0000 - val_loss: 4.2418e-04 - val_auc: 1.0000 - val_precision: 1.0000 - val_recall: 1.0000\n",
      "Epoch 72/300\n",
      "42/42 [==============================] - 0s 2ms/step - loss: 7.2105e-05 - auc: 1.0000 - precision: 1.0000 - recall: 1.0000 - val_loss: 3.7765e-04 - val_auc: 1.0000 - val_precision: 1.0000 - val_recall: 1.0000\n",
      "Epoch 73/300\n",
      "42/42 [==============================] - 0s 2ms/step - loss: 8.5839e-05 - auc: 1.0000 - precision: 1.0000 - recall: 1.0000 - val_loss: 4.5950e-04 - val_auc: 1.0000 - val_precision: 1.0000 - val_recall: 0.9960\n",
      "Epoch 74/300\n",
      "42/42 [==============================] - 0s 2ms/step - loss: 8.6336e-05 - auc: 1.0000 - precision: 1.0000 - recall: 1.0000 - val_loss: 4.2976e-04 - val_auc: 1.0000 - val_precision: 1.0000 - val_recall: 1.0000\n",
      "Epoch 75/300\n",
      "42/42 [==============================] - 0s 2ms/step - loss: 8.0218e-05 - auc: 1.0000 - precision: 1.0000 - recall: 1.0000 - val_loss: 3.9027e-04 - val_auc: 1.0000 - val_precision: 1.0000 - val_recall: 1.0000\n",
      "Epoch 76/300\n",
      "42/42 [==============================] - 0s 2ms/step - loss: 6.3998e-05 - auc: 1.0000 - precision: 1.0000 - recall: 1.0000 - val_loss: 4.9651e-04 - val_auc: 1.0000 - val_precision: 1.0000 - val_recall: 0.9960\n",
      "Epoch 77/300\n",
      "42/42 [==============================] - 0s 2ms/step - loss: 7.4179e-05 - auc: 1.0000 - precision: 1.0000 - recall: 1.0000 - val_loss: 3.4458e-04 - val_auc: 1.0000 - val_precision: 1.0000 - val_recall: 1.0000\n",
      "Epoch 78/300\n",
      "42/42 [==============================] - 0s 2ms/step - loss: 6.9015e-05 - auc: 1.0000 - precision: 1.0000 - recall: 1.0000 - val_loss: 3.3941e-04 - val_auc: 1.0000 - val_precision: 1.0000 - val_recall: 1.0000\n",
      "Epoch 79/300\n",
      "42/42 [==============================] - 0s 2ms/step - loss: 6.5801e-05 - auc: 1.0000 - precision: 1.0000 - recall: 1.0000 - val_loss: 3.3094e-04 - val_auc: 1.0000 - val_precision: 1.0000 - val_recall: 1.0000\n",
      "Epoch 80/300\n",
      "42/42 [==============================] - 0s 2ms/step - loss: 6.1055e-05 - auc: 1.0000 - precision: 1.0000 - recall: 1.0000 - val_loss: 3.3285e-04 - val_auc: 1.0000 - val_precision: 1.0000 - val_recall: 1.0000\n",
      "Epoch 81/300\n",
      "42/42 [==============================] - 0s 2ms/step - loss: 5.7688e-05 - auc: 1.0000 - precision: 1.0000 - recall: 1.0000 - val_loss: 3.0507e-04 - val_auc: 1.0000 - val_precision: 1.0000 - val_recall: 1.0000\n",
      "Epoch 82/300\n",
      "42/42 [==============================] - 0s 2ms/step - loss: 5.5170e-05 - auc: 1.0000 - precision: 1.0000 - recall: 1.0000 - val_loss: 3.5029e-04 - val_auc: 1.0000 - val_precision: 1.0000 - val_recall: 1.0000\n",
      "Epoch 83/300\n",
      "42/42 [==============================] - 0s 2ms/step - loss: 6.3110e-05 - auc: 1.0000 - precision: 1.0000 - recall: 1.0000 - val_loss: 4.0460e-04 - val_auc: 1.0000 - val_precision: 1.0000 - val_recall: 1.0000\n",
      "Epoch 84/300\n",
      "42/42 [==============================] - 0s 2ms/step - loss: 5.6225e-05 - auc: 1.0000 - precision: 1.0000 - recall: 1.0000 - val_loss: 3.2983e-04 - val_auc: 1.0000 - val_precision: 1.0000 - val_recall: 1.0000\n",
      "Epoch 85/300\n",
      "42/42 [==============================] - 0s 2ms/step - loss: 5.3528e-05 - auc: 1.0000 - precision: 1.0000 - recall: 1.0000 - val_loss: 2.8689e-04 - val_auc: 1.0000 - val_precision: 1.0000 - val_recall: 1.0000\n",
      "Epoch 86/300\n",
      "42/42 [==============================] - 0s 2ms/step - loss: 4.7808e-05 - auc: 1.0000 - precision: 1.0000 - recall: 1.0000 - val_loss: 4.2249e-04 - val_auc: 1.0000 - val_precision: 1.0000 - val_recall: 0.9960\n",
      "Epoch 87/300\n",
      "42/42 [==============================] - 0s 2ms/step - loss: 6.2028e-05 - auc: 1.0000 - precision: 1.0000 - recall: 1.0000 - val_loss: 3.8910e-04 - val_auc: 1.0000 - val_precision: 1.0000 - val_recall: 1.0000\n",
      "Epoch 88/300\n",
      "42/42 [==============================] - 0s 2ms/step - loss: 5.0722e-05 - auc: 1.0000 - precision: 1.0000 - recall: 1.0000 - val_loss: 3.8277e-04 - val_auc: 1.0000 - val_precision: 1.0000 - val_recall: 1.0000\n",
      "Epoch 89/300\n",
      "42/42 [==============================] - 0s 2ms/step - loss: 5.0631e-05 - auc: 1.0000 - precision: 1.0000 - recall: 1.0000 - val_loss: 4.2434e-04 - val_auc: 1.0000 - val_precision: 1.0000 - val_recall: 0.9960\n",
      "Epoch 90/300\n",
      "42/42 [==============================] - 0s 2ms/step - loss: 6.0366e-05 - auc: 1.0000 - precision: 1.0000 - recall: 1.0000 - val_loss: 3.4481e-04 - val_auc: 1.0000 - val_precision: 1.0000 - val_recall: 1.0000\n",
      "Epoch 91/300\n",
      "42/42 [==============================] - 0s 2ms/step - loss: 4.7755e-05 - auc: 1.0000 - precision: 1.0000 - recall: 1.0000 - val_loss: 3.1749e-04 - val_auc: 1.0000 - val_precision: 1.0000 - val_recall: 1.0000\n",
      "Epoch 92/300\n",
      "42/42 [==============================] - 0s 2ms/step - loss: 4.6156e-05 - auc: 1.0000 - precision: 1.0000 - recall: 1.0000 - val_loss: 3.2006e-04 - val_auc: 1.0000 - val_precision: 1.0000 - val_recall: 1.0000\n",
      "Epoch 93/300\n",
      "42/42 [==============================] - 0s 2ms/step - loss: 4.0568e-05 - auc: 1.0000 - precision: 1.0000 - recall: 1.0000 - val_loss: 3.1746e-04 - val_auc: 1.0000 - val_precision: 1.0000 - val_recall: 1.0000\n",
      "Epoch 94/300\n",
      "42/42 [==============================] - 0s 2ms/step - loss: 5.0291e-05 - auc: 1.0000 - precision: 1.0000 - recall: 1.0000 - val_loss: 3.3877e-04 - val_auc: 1.0000 - val_precision: 1.0000 - val_recall: 1.0000\n",
      "Epoch 95/300\n",
      "42/42 [==============================] - 0s 2ms/step - loss: 5.7213e-05 - auc: 1.0000 - precision: 1.0000 - recall: 1.0000 - val_loss: 3.5808e-04 - val_auc: 1.0000 - val_precision: 1.0000 - val_recall: 1.0000\n"
     ]
    }
   ],
   "source": [
    "import numpy as np\n",
    "from tensorflow.keras.callbacks import EarlyStopping\n",
    "from sklearn.utils.class_weight import compute_class_weight\n",
    "\n",
    "neg, pos = np.bincount(train_y)\n",
    "total = neg + pos\n",
    "# Scaling by total/2 helps keep the loss to a similar magnitude.\n",
    "# The sum of the weights of all examples stays the same.\n",
    "weight_for_0 = (1 / neg) * (total / 2.0)\n",
    "weight_for_1 = (1 / pos) * (total / 2.0)\n",
    "\n",
    "class_weight = {0: weight_for_0, 1: weight_for_1}\n",
    "print(class_weight)\n",
    "\n",
    "# Create the early stopping callback\n",
    "early_stopping = EarlyStopping(monitor='val_loss', patience=10, restore_best_weights=True)\n",
    "\n",
    "# Compile the model with the specified metrics\n",
    "model.compile(optimizer='adam',\n",
    "              loss='binary_crossentropy',\n",
    "              metrics=[tf.keras.metrics.AUC(name='auc'),\n",
    "                       tf.keras.metrics.Precision(name='precision'),\n",
    "                       tf.keras.metrics.Recall(name='recall')])\n",
    "\n",
    "\n",
    "# Train the model with class weights and early stopping\n",
    "history = model.fit(train_x, train_y, epochs=300, batch_size=128 , class_weight=class_weight, validation_data=(test_x, test_y), callbacks=[early_stopping])\n"
   ]
  },
  {
   "cell_type": "code",
   "execution_count": 45,
   "id": "f8b4e6ce-07f7-43d8-b137-33bdd54c422b",
   "metadata": {},
   "outputs": [
    {
     "name": "stdout",
     "output_type": "stream",
     "text": [
      "INFO:tensorflow:Assets written to: fake_classifier\\assets\n"
     ]
    },
    {
     "name": "stderr",
     "output_type": "stream",
     "text": [
      "INFO:tensorflow:Assets written to: fake_classifier\\assets\n"
     ]
    }
   ],
   "source": [
    "model.save('fake_classifier')"
   ]
  }
 ],
 "metadata": {
  "kernelspec": {
   "display_name": "Python 3 (ipykernel)",
   "language": "python",
   "name": "python3"
  },
  "language_info": {
   "codemirror_mode": {
    "name": "ipython",
    "version": 3
   },
   "file_extension": ".py",
   "mimetype": "text/x-python",
   "name": "python",
   "nbconvert_exporter": "python",
   "pygments_lexer": "ipython3",
   "version": "3.11.5"
  }
 },
 "nbformat": 4,
 "nbformat_minor": 5
}
