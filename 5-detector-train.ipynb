{
 "cells": [
  {
   "cell_type": "code",
   "execution_count": 1,
   "id": "8b175f19-0b4c-4e46-a779-d706c6c45793",
   "metadata": {},
   "outputs": [],
   "source": [
    "import pandas as pd\n",
    "import tensorflow as tf"
   ]
  },
  {
   "cell_type": "code",
   "execution_count": 2,
   "id": "6a83776d-d646-43e6-aa01-8036a377b369",
   "metadata": {},
   "outputs": [
    {
     "name": "stdout",
     "output_type": "stream",
     "text": [
      "Model: \"model\"\n",
      "_________________________________________________________________\n",
      " Layer (type)                Output Shape              Param #   \n",
      "=================================================================\n",
      " input_1 (InputLayer)        [(None, 512)]             0         \n",
      "                                                                 \n",
      " dense (Dense)               (None, 64)                32832     \n",
      "                                                                 \n",
      " dense_1 (Dense)             (None, 32)                2080      \n",
      "                                                                 \n",
      " dense_2 (Dense)             (None, 1)                 33        \n",
      "                                                                 \n",
      "=================================================================\n",
      "Total params: 34945 (136.50 KB)\n",
      "Trainable params: 34945 (136.50 KB)\n",
      "Non-trainable params: 0 (0.00 Byte)\n",
      "_________________________________________________________________\n"
     ]
    }
   ],
   "source": [
    "# Input layer\n",
    "input_layer = tf.keras.layers.Input(shape=(512,))\n",
    "\n",
    "# Hidden layer with ReLU activation\n",
    "hidden_layer = tf.keras.layers.Dense(64, activation='relu')(input_layer)\n",
    "hidden_layer = tf.keras.layers.Dense(32, activation='relu')(hidden_layer)\n",
    "\n",
    "# Output layer with sigmoid activation for binary classification\n",
    "output_layer = tf.keras.layers.Dense(1, activation='sigmoid')(hidden_layer)\n",
    "\n",
    "# Create the model\n",
    "model = tf.keras.Model(inputs=input_layer, outputs=output_layer)\n",
    "\n",
    "# Compile the model\n",
    "model.compile(optimizer='adam', loss='binary_crossentropy', metrics=['auc'])\n",
    "\n",
    "# You can now use this 'model' object for training, evaluation, and prediction.\n",
    "model.summary()"
   ]
  },
  {
   "cell_type": "code",
   "execution_count": 3,
   "id": "3e5e338a-648f-466b-bc66-1f8569745e07",
   "metadata": {},
   "outputs": [],
   "source": [
    "cls_train = pd.read_csv('cls_train_ids_sample.csv')\n",
    "cls_val = pd.read_csv('cls_val_ids_sample.csv')"
   ]
  },
  {
   "cell_type": "code",
   "execution_count": 7,
   "id": "3e5da3ce-916a-4596-a0f2-f5be9d1425fd",
   "metadata": {},
   "outputs": [],
   "source": [
    "train_x = pd.read_csv('cls_train_x.csv', header=None)\n",
    "train_y = cls_train['fake'].to_numpy()\n",
    "\n",
    "val_x = pd.read_csv('cls_val_x.csv', header=None)\n",
    "val_y = cls_val['fake'].to_numpy()\n"
   ]
  },
  {
   "cell_type": "code",
   "execution_count": 8,
   "id": "6a92450c-61a3-48ee-ba12-e076e32b8a67",
   "metadata": {},
   "outputs": [
    {
     "data": {
      "text/plain": [
       "((10000, 512), (5000, 512))"
      ]
     },
     "execution_count": 8,
     "metadata": {},
     "output_type": "execute_result"
    }
   ],
   "source": [
    "train_x.shape, val_x.shape"
   ]
  },
  {
   "cell_type": "code",
   "execution_count": 6,
   "id": "e0d87e6f-900b-4b6a-8810-28c274926934",
   "metadata": {},
   "outputs": [
    {
     "data": {
      "text/plain": [
       "((10000,), (5000,))"
      ]
     },
     "execution_count": 6,
     "metadata": {},
     "output_type": "execute_result"
    }
   ],
   "source": [
    "train_y.shape, val_y.shape"
   ]
  },
  {
   "cell_type": "code",
   "execution_count": 9,
   "id": "121c80a5-ca38-4018-a711-1f56c00617b6",
   "metadata": {},
   "outputs": [
    {
     "name": "stdout",
     "output_type": "stream",
     "text": [
      "{0: 0.5971575301564552, 1: 3.073140749846343}\n",
      "Epoch 1/300\n",
      "79/79 [==============================] - 2s 9ms/step - loss: 0.4086 - auc: 0.9308 - precision: 0.5765 - recall: 0.8869 - val_loss: 0.1439 - val_auc: 0.9849 - val_precision: 0.8080 - val_recall: 0.9698\n",
      "Epoch 2/300\n",
      "79/79 [==============================] - 0s 4ms/step - loss: 0.1020 - auc: 0.9891 - precision: 0.8530 - recall: 0.9846 - val_loss: 0.1374 - val_auc: 0.9878 - val_precision: 0.8362 - val_recall: 0.9899\n",
      "Epoch 3/300\n",
      "79/79 [==============================] - 0s 4ms/step - loss: 0.0778 - auc: 0.9919 - precision: 0.8732 - recall: 0.9908 - val_loss: 0.1093 - val_auc: 0.9885 - val_precision: 0.8712 - val_recall: 0.9798\n",
      "Epoch 4/300\n",
      "79/79 [==============================] - 0s 4ms/step - loss: 0.0621 - auc: 0.9943 - precision: 0.8871 - recall: 0.9945 - val_loss: 0.1135 - val_auc: 0.9888 - val_precision: 0.8710 - val_recall: 0.9861\n",
      "Epoch 5/300\n",
      "79/79 [==============================] - 0s 4ms/step - loss: 0.0519 - auc: 0.9959 - precision: 0.8927 - recall: 0.9975 - val_loss: 0.1047 - val_auc: 0.9879 - val_precision: 0.8846 - val_recall: 0.9748\n",
      "Epoch 6/300\n",
      "79/79 [==============================] - 0s 4ms/step - loss: 0.0435 - auc: 0.9971 - precision: 0.9039 - recall: 1.0000 - val_loss: 0.1208 - val_auc: 0.9879 - val_precision: 0.8697 - val_recall: 0.9836\n",
      "Epoch 7/300\n",
      "79/79 [==============================] - 0s 4ms/step - loss: 0.0351 - auc: 0.9983 - precision: 0.9146 - recall: 1.0000 - val_loss: 0.1102 - val_auc: 0.9879 - val_precision: 0.8867 - val_recall: 0.9761\n",
      "Epoch 8/300\n",
      "79/79 [==============================] - 0s 4ms/step - loss: 0.0281 - auc: 0.9991 - precision: 0.9223 - recall: 0.9994 - val_loss: 0.1135 - val_auc: 0.9874 - val_precision: 0.8834 - val_recall: 0.9547\n",
      "Epoch 9/300\n",
      "79/79 [==============================] - 0s 4ms/step - loss: 0.0251 - auc: 0.9992 - precision: 0.9366 - recall: 0.9994 - val_loss: 0.1177 - val_auc: 0.9879 - val_precision: 0.8895 - val_recall: 0.9534\n",
      "Epoch 10/300\n",
      "79/79 [==============================] - 0s 5ms/step - loss: 0.0197 - auc: 0.9994 - precision: 0.9514 - recall: 0.9988 - val_loss: 0.1394 - val_auc: 0.9882 - val_precision: 0.8608 - val_recall: 0.9811\n",
      "Epoch 11/300\n",
      "79/79 [==============================] - 0s 4ms/step - loss: 0.0163 - auc: 0.9996 - precision: 0.9565 - recall: 1.0000 - val_loss: 0.1296 - val_auc: 0.9867 - val_precision: 0.8888 - val_recall: 0.9660\n",
      "Epoch 12/300\n",
      "79/79 [==============================] - 0s 4ms/step - loss: 0.0134 - auc: 0.9998 - precision: 0.9690 - recall: 0.9994 - val_loss: 0.1343 - val_auc: 0.9868 - val_precision: 0.8880 - val_recall: 0.9282\n",
      "Epoch 13/300\n",
      "79/79 [==============================] - 0s 4ms/step - loss: 0.0113 - auc: 0.9998 - precision: 0.9783 - recall: 0.9994 - val_loss: 0.1392 - val_auc: 0.9871 - val_precision: 0.8892 - val_recall: 0.9496\n",
      "Epoch 14/300\n",
      "79/79 [==============================] - 0s 4ms/step - loss: 0.0110 - auc: 0.9997 - precision: 0.9801 - recall: 0.9982 - val_loss: 0.1428 - val_auc: 0.9866 - val_precision: 0.8905 - val_recall: 0.9320\n",
      "Epoch 15/300\n",
      "79/79 [==============================] - 0s 4ms/step - loss: 0.0109 - auc: 0.9996 - precision: 0.9789 - recall: 1.0000 - val_loss: 0.1502 - val_auc: 0.9869 - val_precision: 0.8901 - val_recall: 0.9484\n"
     ]
    }
   ],
   "source": [
    "import numpy as np\n",
    "from tensorflow.keras.callbacks import EarlyStopping\n",
    "from sklearn.utils.class_weight import compute_class_weight\n",
    "\n",
    "neg, pos = np.bincount(train_y)\n",
    "total = neg + pos\n",
    "# Scaling by total/2 helps keep the loss to a similar magnitude.\n",
    "# The sum of the weights of all examples stays the same.\n",
    "weight_for_0 = (1 / neg) * (total / 2.0)\n",
    "weight_for_1 = (1 / pos) * (total / 2.0)\n",
    "\n",
    "class_weight = {0: weight_for_0, 1: weight_for_1}\n",
    "print(class_weight)\n",
    "\n",
    "# Create the early stopping callback\n",
    "early_stopping = EarlyStopping(monitor='val_loss', patience=10, restore_best_weights=True)\n",
    "\n",
    "# Compile the model with the specified metrics\n",
    "model.compile(optimizer='adam',\n",
    "              loss='binary_crossentropy',\n",
    "              metrics=[tf.keras.metrics.AUC(name='auc'),\n",
    "                       tf.keras.metrics.Precision(name='precision'),\n",
    "                       tf.keras.metrics.Recall(name='recall')])\n",
    "\n",
    "\n",
    "# Train the model with class weights and early stopping\n",
    "history = model.fit(train_x, train_y, epochs=300, batch_size=128 , class_weight=class_weight, validation_data=(val_x, val_y), callbacks=[early_stopping])\n"
   ]
  },
  {
   "cell_type": "code",
   "execution_count": null,
   "id": "a170f677",
   "metadata": {},
   "outputs": [],
   "source": []
  },
  {
   "cell_type": "code",
   "execution_count": 13,
   "id": "2fab6d4c",
   "metadata": {},
   "outputs": [
    {
     "name": "stdout",
     "output_type": "stream",
     "text": [
      "157/157 [==============================] - 0s 1ms/step\n"
     ]
    },
    {
     "data": {
      "image/png": "[encoded data removed]",
      "text/plain": [
       "<Figure size 640x480 with 1 Axes>"
      ]
     },
     "metadata": {},
     "output_type": "display_data"
    }
   ],
   "source": [
    "import numpy as np\n",
    "import matplotlib.pyplot as plt\n",
    "from sklearn.metrics import roc_curve, roc_auc_score, auc\n",
    "import tensorflow as tf\n",
    "\n",
    "y_pred = model.predict(val_x)\n",
    "# Calculate the ROC curve\n",
    "fpr, tpr, thresholds = roc_curve(val_y, y_pred)\n",
    "\n",
    "# Calculate the ROC-AUC score\n",
    "roc_auc = auc(fpr, tpr)\n",
    "\n",
    "# Plot the ROC-AUC curve\n",
    "plt.figure()\n",
    "plt.plot(fpr, tpr, color='darkorange', lw=2, label=f'ROC curve (area = {roc_auc:.2f})')\n",
    "plt.plot([0, 1], [0, 1], color='navy', lw=2, linestyle='--')\n",
    "plt.xlim([0.0, 1.0])\n",
    "plt.ylim([0.0, 1.05])\n",
    "plt.xlabel('False Positive Rate')\n",
    "plt.ylabel('True Positive Rate')\n",
    "plt.title('Receiver Operating Characteristic')\n",
    "plt.legend(loc='lower right')\n",
    "plt.show()"
   ]
  },
  {
   "cell_type": "code",
   "execution_count": 10,
   "id": "f8b4e6ce-07f7-43d8-b137-33bdd54c422b",
   "metadata": {},
   "outputs": [
    {
     "name": "stdout",
     "output_type": "stream",
     "text": [
      "INFO:tensorflow:Assets written to: fake_classifier\\assets\n"
     ]
    },
    {
     "name": "stderr",
     "output_type": "stream",
     "text": [
      "INFO:tensorflow:Assets written to: fake_classifier\\assets\n"
     ]
    }
   ],
   "source": [
    "model.save('fake_classifier')"
   ]
  }
 ],
 "metadata": {
  "kernelspec": {
   "display_name": "Python 3 (ipykernel)",
   "language": "python",
   "name": "python3"
  },
  "language_info": {
   "codemirror_mode": {
    "name": "ipython",
    "version": 3
   },
   "file_extension": ".py",
   "mimetype": "text/x-python",
   "name": "python",
   "nbconvert_exporter": "python",
   "pygments_lexer": "ipython3",
   "version": "3.11.5"
  }
 },
 "nbformat": 4,
 "nbformat_minor": 5
}
