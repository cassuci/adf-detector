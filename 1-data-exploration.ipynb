{
 "cells": [
  {
   "cell_type": "code",
   "execution_count": 9,
   "id": "4f8bdefe",
   "metadata": {},
   "outputs": [],
   "source": [
    "import pandas as pd\n",
    "from pathlib import Path"
   ]
  },
  {
   "cell_type": "markdown",
   "id": "7bb0d1e5",
   "metadata": {},
   "source": [
    "## Read all txt to describe data from TIMIT"
   ]
  },
  {
   "cell_type": "code",
   "execution_count": 10,
   "id": "4aabe007",
   "metadata": {},
   "outputs": [],
   "source": [
    "files_path = []\n",
    "for path in Path('downloads').rglob('*.TXT'):\n",
    "    if \"TEST\" in str(path) or \"TRAIN\" in str(path):\n",
    "        files_path.append(str(path))        "
   ]
  },
  {
   "cell_type": "code",
   "execution_count": 17,
   "id": "c2e477f7",
   "metadata": {},
   "outputs": [
    {
     "data": {
      "text/plain": [
       "'downloads\\\\data\\\\lisa\\\\data\\\\timit\\\\raw\\\\TIMIT\\\\TEST\\\\DR1\\\\FAKS0\\\\SA1.WAV'"
      ]
     },
     "execution_count": 17,
     "metadata": {},
     "output_type": "execute_result"
    }
   ],
   "source": [
    "files_path[0].replace(\".TXT\", \".WAV\")"
   ]
  },
  {
   "cell_type": "code",
   "execution_count": 18,
   "id": "9bafba2d",
   "metadata": {},
   "outputs": [
    {
     "name": "stderr",
     "output_type": "stream",
     "text": [
      "C:\\Users\\gabri\\AppData\\Local\\Temp\\ipykernel_18016\\1861000662.py:31: FutureWarning: The default value of regex will change from True to False in a future version. In addition, single character regular expressions will *not* be treated as literal strings when regex=True.\n",
      "  result_df['full_path'] = result_df['full_path'].str.replace('\\\\', '\\\\\\\\')\n"
     ]
    }
   ],
   "source": [
    "files = []\n",
    "\n",
    "for file_path in files_path:\n",
    "    file_parts = file_path.split('\\\\')\n",
    "    train_test, dialect, remaining = file_parts[7], file_parts[8], file_parts[9:]\n",
    "    male_female, speaker_id = remaining[0][0], remaining[0][1:]\n",
    "    text_type, sentence_number = remaining[1][:2], remaining[1][2:]\n",
    "\n",
    "    with open(file_path, 'r') as file:\n",
    "        first_line = file.readline().strip()\n",
    "        initial_sample, final_sample, text = first_line.split(\" \", 2)\n",
    "\n",
    "    file_data = {\n",
    "        'full_path': file_path.replace(\".TXT\", \".WAV\"),\n",
    "        'train_test': train_test,\n",
    "        'dialect': dialect,\n",
    "        'male_female': male_female,\n",
    "        'speaker_id': speaker_id,\n",
    "        'text_type': text_type,\n",
    "        'sentence_number': sentence_number,\n",
    "        'initial_sample': initial_sample,\n",
    "        'final_sample': final_sample,\n",
    "        'text': text\n",
    "    }\n",
    "\n",
    "    file_df = pd.DataFrame([file_data])\n",
    "    files.append(file_df)\n",
    "\n",
    "# Concatenate all the DataFrames in the files list into a single DataFrame\n",
    "result_df = pd.concat(files, ignore_index=True)\n",
    "result_df['full_path'] = result_df['full_path'].str.replace('\\\\', '\\\\\\\\')\n",
    "\n",
    "# Now you have a single DataFrame containing all the data from the files_path.\n"
   ]
  },
  {
   "cell_type": "code",
   "execution_count": 19,
   "id": "9c2474b3",
   "metadata": {},
   "outputs": [
    {
     "data": {
      "text/html": [
       "<div>\n",
       "<style scoped>\n",
       "    .dataframe tbody tr th:only-of-type {\n",
       "        vertical-align: middle;\n",
       "    }\n",
       "\n",
       "    .dataframe tbody tr th {\n",
       "        vertical-align: top;\n",
       "    }\n",
       "\n",
       "    .dataframe thead th {\n",
       "        text-align: right;\n",
       "    }\n",
       "</style>\n",
       "<table border=\"1\" class=\"dataframe\">\n",
       "  <thead>\n",
       "    <tr style=\"text-align: right;\">\n",
       "      <th></th>\n",
       "      <th>full_path</th>\n",
       "      <th>train_test</th>\n",
       "      <th>dialect</th>\n",
       "      <th>male_female</th>\n",
       "      <th>speaker_id</th>\n",
       "      <th>text_type</th>\n",
       "      <th>sentence_number</th>\n",
       "      <th>initial_sample</th>\n",
       "      <th>final_sample</th>\n",
       "      <th>text</th>\n",
       "    </tr>\n",
       "  </thead>\n",
       "  <tbody>\n",
       "    <tr>\n",
       "      <th>0</th>\n",
       "      <td>downloads\\\\data\\\\lisa\\\\data\\\\timit\\\\raw\\\\TIMIT...</td>\n",
       "      <td>TEST</td>\n",
       "      <td>DR1</td>\n",
       "      <td>F</td>\n",
       "      <td>AKS0</td>\n",
       "      <td>SA</td>\n",
       "      <td>1.TXT</td>\n",
       "      <td>0</td>\n",
       "      <td>63488</td>\n",
       "      <td>She had your dark suit in greasy wash water al...</td>\n",
       "    </tr>\n",
       "    <tr>\n",
       "      <th>1</th>\n",
       "      <td>downloads\\\\data\\\\lisa\\\\data\\\\timit\\\\raw\\\\TIMIT...</td>\n",
       "      <td>TEST</td>\n",
       "      <td>DR1</td>\n",
       "      <td>F</td>\n",
       "      <td>AKS0</td>\n",
       "      <td>SA</td>\n",
       "      <td>2.TXT</td>\n",
       "      <td>0</td>\n",
       "      <td>58061</td>\n",
       "      <td>Don't ask me to carry an oily rag like that.</td>\n",
       "    </tr>\n",
       "    <tr>\n",
       "      <th>2</th>\n",
       "      <td>downloads\\\\data\\\\lisa\\\\data\\\\timit\\\\raw\\\\TIMIT...</td>\n",
       "      <td>TEST</td>\n",
       "      <td>DR1</td>\n",
       "      <td>F</td>\n",
       "      <td>AKS0</td>\n",
       "      <td>SI</td>\n",
       "      <td>1573.TXT</td>\n",
       "      <td>0</td>\n",
       "      <td>79565</td>\n",
       "      <td>His captain was thin and haggard and his beaut...</td>\n",
       "    </tr>\n",
       "    <tr>\n",
       "      <th>3</th>\n",
       "      <td>downloads\\\\data\\\\lisa\\\\data\\\\timit\\\\raw\\\\TIMIT...</td>\n",
       "      <td>TEST</td>\n",
       "      <td>DR1</td>\n",
       "      <td>F</td>\n",
       "      <td>AKS0</td>\n",
       "      <td>SI</td>\n",
       "      <td>2203.TXT</td>\n",
       "      <td>0</td>\n",
       "      <td>56218</td>\n",
       "      <td>The reasons for this dive seemed foolish now.</td>\n",
       "    </tr>\n",
       "    <tr>\n",
       "      <th>4</th>\n",
       "      <td>downloads\\\\data\\\\lisa\\\\data\\\\timit\\\\raw\\\\TIMIT...</td>\n",
       "      <td>TEST</td>\n",
       "      <td>DR1</td>\n",
       "      <td>F</td>\n",
       "      <td>AKS0</td>\n",
       "      <td>SI</td>\n",
       "      <td>943.TXT</td>\n",
       "      <td>0</td>\n",
       "      <td>60109</td>\n",
       "      <td>Production may fall far below expectations.</td>\n",
       "    </tr>\n",
       "  </tbody>\n",
       "</table>\n",
       "</div>"
      ],
      "text/plain": [
       "                                           full_path train_test dialect  \\\n",
       "0  downloads\\\\data\\\\lisa\\\\data\\\\timit\\\\raw\\\\TIMIT...       TEST     DR1   \n",
       "1  downloads\\\\data\\\\lisa\\\\data\\\\timit\\\\raw\\\\TIMIT...       TEST     DR1   \n",
       "2  downloads\\\\data\\\\lisa\\\\data\\\\timit\\\\raw\\\\TIMIT...       TEST     DR1   \n",
       "3  downloads\\\\data\\\\lisa\\\\data\\\\timit\\\\raw\\\\TIMIT...       TEST     DR1   \n",
       "4  downloads\\\\data\\\\lisa\\\\data\\\\timit\\\\raw\\\\TIMIT...       TEST     DR1   \n",
       "\n",
       "  male_female speaker_id text_type sentence_number initial_sample  \\\n",
       "0           F       AKS0        SA           1.TXT              0   \n",
       "1           F       AKS0        SA           2.TXT              0   \n",
       "2           F       AKS0        SI        1573.TXT              0   \n",
       "3           F       AKS0        SI        2203.TXT              0   \n",
       "4           F       AKS0        SI         943.TXT              0   \n",
       "\n",
       "  final_sample                                               text  \n",
       "0        63488  She had your dark suit in greasy wash water al...  \n",
       "1        58061       Don't ask me to carry an oily rag like that.  \n",
       "2        79565  His captain was thin and haggard and his beaut...  \n",
       "3        56218      The reasons for this dive seemed foolish now.  \n",
       "4        60109        Production may fall far below expectations.  "
      ]
     },
     "execution_count": 19,
     "metadata": {},
     "output_type": "execute_result"
    }
   ],
   "source": [
    "result_df.head()"
   ]
  },
  {
   "cell_type": "code",
   "execution_count": 20,
   "id": "1016b8c5",
   "metadata": {},
   "outputs": [],
   "source": [
    "result_df.to_csv('data_files_summary.csv', index=False)"
   ]
  },
  {
   "cell_type": "code",
   "execution_count": 21,
   "id": "3157f859",
   "metadata": {
    "scrolled": false
   },
   "outputs": [
    {
     "data": {
      "text/html": [
       "<div>\n",
       "<style scoped>\n",
       "    .dataframe tbody tr th:only-of-type {\n",
       "        vertical-align: middle;\n",
       "    }\n",
       "\n",
       "    .dataframe tbody tr th {\n",
       "        vertical-align: top;\n",
       "    }\n",
       "\n",
       "    .dataframe thead th {\n",
       "        text-align: right;\n",
       "    }\n",
       "</style>\n",
       "<table border=\"1\" class=\"dataframe\">\n",
       "  <thead>\n",
       "    <tr style=\"text-align: right;\">\n",
       "      <th></th>\n",
       "      <th>full_path</th>\n",
       "      <th>train_test</th>\n",
       "      <th>dialect</th>\n",
       "      <th>male_female</th>\n",
       "      <th>speaker_id</th>\n",
       "      <th>text_type</th>\n",
       "      <th>sentence_number</th>\n",
       "      <th>initial_sample</th>\n",
       "      <th>final_sample</th>\n",
       "      <th>text</th>\n",
       "    </tr>\n",
       "  </thead>\n",
       "  <tbody>\n",
       "    <tr>\n",
       "      <th>6295</th>\n",
       "      <td>downloads\\\\data\\\\lisa\\\\data\\\\timit\\\\raw\\\\TIMIT...</td>\n",
       "      <td>TRAIN</td>\n",
       "      <td>DR8</td>\n",
       "      <td>M</td>\n",
       "      <td>TCS0</td>\n",
       "      <td>SX</td>\n",
       "      <td>172.TXT</td>\n",
       "      <td>0</td>\n",
       "      <td>44954</td>\n",
       "      <td>The triumphant warrior exhibited naive heroism.</td>\n",
       "    </tr>\n",
       "    <tr>\n",
       "      <th>6296</th>\n",
       "      <td>downloads\\\\data\\\\lisa\\\\data\\\\timit\\\\raw\\\\TIMIT...</td>\n",
       "      <td>TRAIN</td>\n",
       "      <td>DR8</td>\n",
       "      <td>M</td>\n",
       "      <td>TCS0</td>\n",
       "      <td>SX</td>\n",
       "      <td>262.TXT</td>\n",
       "      <td>0</td>\n",
       "      <td>38196</td>\n",
       "      <td>Can the agency overthrow alien forces?</td>\n",
       "    </tr>\n",
       "    <tr>\n",
       "      <th>6297</th>\n",
       "      <td>downloads\\\\data\\\\lisa\\\\data\\\\timit\\\\raw\\\\TIMIT...</td>\n",
       "      <td>TRAIN</td>\n",
       "      <td>DR8</td>\n",
       "      <td>M</td>\n",
       "      <td>TCS0</td>\n",
       "      <td>SX</td>\n",
       "      <td>352.TXT</td>\n",
       "      <td>0</td>\n",
       "      <td>63284</td>\n",
       "      <td>According to my interpretation of the problem,...</td>\n",
       "    </tr>\n",
       "    <tr>\n",
       "      <th>6298</th>\n",
       "      <td>downloads\\\\data\\\\lisa\\\\data\\\\timit\\\\raw\\\\TIMIT...</td>\n",
       "      <td>TRAIN</td>\n",
       "      <td>DR8</td>\n",
       "      <td>M</td>\n",
       "      <td>TCS0</td>\n",
       "      <td>SX</td>\n",
       "      <td>442.TXT</td>\n",
       "      <td>0</td>\n",
       "      <td>56730</td>\n",
       "      <td>Suburban housewives often suffer from the gab ...</td>\n",
       "    </tr>\n",
       "    <tr>\n",
       "      <th>6299</th>\n",
       "      <td>downloads\\\\data\\\\lisa\\\\data\\\\timit\\\\raw\\\\TIMIT...</td>\n",
       "      <td>TRAIN</td>\n",
       "      <td>DR8</td>\n",
       "      <td>M</td>\n",
       "      <td>TCS0</td>\n",
       "      <td>SX</td>\n",
       "      <td>82.TXT</td>\n",
       "      <td>0</td>\n",
       "      <td>43418</td>\n",
       "      <td>Good service should be rewarded by big tips.</td>\n",
       "    </tr>\n",
       "  </tbody>\n",
       "</table>\n",
       "</div>"
      ],
      "text/plain": [
       "                                              full_path train_test dialect  \\\n",
       "6295  downloads\\\\data\\\\lisa\\\\data\\\\timit\\\\raw\\\\TIMIT...      TRAIN     DR8   \n",
       "6296  downloads\\\\data\\\\lisa\\\\data\\\\timit\\\\raw\\\\TIMIT...      TRAIN     DR8   \n",
       "6297  downloads\\\\data\\\\lisa\\\\data\\\\timit\\\\raw\\\\TIMIT...      TRAIN     DR8   \n",
       "6298  downloads\\\\data\\\\lisa\\\\data\\\\timit\\\\raw\\\\TIMIT...      TRAIN     DR8   \n",
       "6299  downloads\\\\data\\\\lisa\\\\data\\\\timit\\\\raw\\\\TIMIT...      TRAIN     DR8   \n",
       "\n",
       "     male_female speaker_id text_type sentence_number  initial_sample  \\\n",
       "6295           M       TCS0        SX         172.TXT               0   \n",
       "6296           M       TCS0        SX         262.TXT               0   \n",
       "6297           M       TCS0        SX         352.TXT               0   \n",
       "6298           M       TCS0        SX         442.TXT               0   \n",
       "6299           M       TCS0        SX          82.TXT               0   \n",
       "\n",
       "      final_sample                                               text  \n",
       "6295         44954    The triumphant warrior exhibited naive heroism.  \n",
       "6296         38196             Can the agency overthrow alien forces?  \n",
       "6297         63284  According to my interpretation of the problem,...  \n",
       "6298         56730  Suburban housewives often suffer from the gab ...  \n",
       "6299         43418       Good service should be rewarded by big tips.  "
      ]
     },
     "execution_count": 21,
     "metadata": {},
     "output_type": "execute_result"
    }
   ],
   "source": [
    "result_df = pd.read_csv('data_files_summary.csv')\n",
    "result_df.tail()"
   ]
  },
  {
   "cell_type": "code",
   "execution_count": 27,
   "id": "b2ca0985",
   "metadata": {},
   "outputs": [
    {
     "data": {
      "text/plain": [
       "'downloads\\\\\\\\data\\\\\\\\lisa\\\\\\\\data\\\\\\\\timit\\\\\\\\raw\\\\\\\\TIMIT\\\\\\\\TRAIN\\\\\\\\DR8\\\\\\\\MTCS0\\\\\\\\SX172.WAV'"
      ]
     },
     "execution_count": 27,
     "metadata": {},
     "output_type": "execute_result"
    }
   ],
   "source": [
    "result_df.iloc[6295][0]"
   ]
  }
 ],
 "metadata": {
  "kernelspec": {
   "display_name": "Python 3 (ipykernel)",
   "language": "python",
   "name": "python3"
  },
  "language_info": {
   "codemirror_mode": {
    "name": "ipython",
    "version": 3
   },
   "file_extension": ".py",
   "mimetype": "text/x-python",
   "name": "python",
   "nbconvert_exporter": "python",
   "pygments_lexer": "ipython3",
   "version": "3.9.18"
  }
 },
 "nbformat": 4,
 "nbformat_minor": 5
}
